{
 "cells": [
  {
   "cell_type": "code",
   "execution_count": 1,
   "id": "eca02aa0",
   "metadata": {},
   "outputs": [],
   "source": [
    "import pandas as pd\n",
    "import math\n",
    "import numpy as np\n",
    "import matplotlib.pyplot as plt\n",
    "import seaborn as sns"
   ]
  },
  {
   "cell_type": "markdown",
   "id": "10332e6b",
   "metadata": {},
   "source": [
    "# Содержание"
   ]
  },
  {
   "cell_type": "markdown",
   "id": "a383b5df",
   "metadata": {},
   "source": [
    "* [1 Исследование входных данных](#chapter1)\n",
    "    * [1.1 Датасет *Predicting Heart Disease Risk Using Clinical Variables*](#section_1_1)\n",
    "        * [1.1.1 Описание переменных](#sub_section_1_1_1)\n",
    "        * [1.1.2 Обзор датасета](#sub_section_1_1_2)\n",
    "    * [1.2 Датасет *Cleveland Clinic Heart Disease Dataset*](#section_1_2)\n",
    "        * [1.2.1 Описание переменных](#sub_section_1_2_1)\n",
    "        * [1.2.2 Обзор датасета](#sub_section_1_2_2)\n",
    "* [2 Определение функций моделирования пропусков](#chapter2)\n",
    "    * [2.1 MCAR](#section_2_1)\n",
    "    * [2.2 MAR](#section_2_2)\n",
    "    * [2.3 MNAR](#section_2_3)\n",
    "* [3 Определение функций для импутации](#chapter3)\n",
    "    * [3.1 Создание 2 тестовых датасетов (Потом уберу)](#section_3_1)\n",
    "    * [3.2 Импутация средним](#section_3_2)\n",
    "    * [3.3 Линейная регрессия](#section_3_3)\n",
    "    * [3.4 k-ближайших соседей (kNN)](#section_3_4)\n",
    "    * [3.5 Решающие деревья для классификации](#section_3_5)\n",
    "    * [3.6 Решающие деревья для регрессии](#section_3_6)\n",
    "* [4 Создание набора датасетов](#chapter4)\n",
    "    * [4.1 Датасет *Predicting Heart Disease Risk Using Clinical Variables*](#section_4_1)\n",
    "    * [4.2 Датасет *Cleveland Clinic Heart Disease Dataset*](#section_4_2)\n",
    "* [5 Применение методов](#chapter5)\n",
    "    * [5.1 Определение функции для применения методов](#section_5_1)\n",
    "    * [5.2 Датасет *Predicting Heart Disease Risk Using Clinical Variables*](#section_5_2)\n",
    "    * [5.3 Датасет *Cleveland Clinic Heart Disease Dataset*](#section_5_3)\n",
    "* [6 Сравнение результатов](#chapter6)\n",
    "    * [6.1 Создание матриц метрик и определение функции поиска лучших показателей](#section_6_1)\n",
    "    * [6.2 Датасет *Predicting Heart Disease Risk Using Clinical Variables*](#section_6_2)\n",
    "    * [6.3 Датасет *Cleveland Clinic Heart Disease Dataset*](#section_6_3)\n",
    "* [7 Выводы](#chapter7)"
   ]
  },
  {
   "cell_type": "markdown",
   "id": "1402c080",
   "metadata": {},
   "source": [
    "# 1 Исследование исходных данных <a class=\"anchor\" id=\"chapter1\"></a>"
   ]
  },
  {
   "cell_type": "markdown",
   "id": "3abdf30f",
   "metadata": {},
   "source": [
    "## 1.1 Датасет *Predicting Heart Disease Risk Using Clinical Variables* <a class=\"anchor\" id=\"section_1_1\"></a>"
   ]
  },
  {
   "cell_type": "markdown",
   "id": "f6d2dc1b",
   "metadata": {},
   "source": [
    "### 1.1.1 Описание переменных  <a class=\"anchor\" id=\"sub_section_1_1_1\"></a>\n",
    "|Column name            |Description                                                      |Type             |\n",
    "|-----------------------|-----------------------------------------------------------------|-----------------|\n",
    "|Age                    |The age of the patient.                                          |Numeric          |\n",
    "|Sex                    |The gender of the patient.                                       |Categorical (Bin)|\n",
    "|Chest pain type        |The type of chest pain experienced by the patient.               |Categorical      |\n",
    "|BP                     |The blood pressure level of the patient.                         |Numeric          |\n",
    "|Cholesterol            |The cholesterol level of the patient.                            |Numeric          |\n",
    "|FBS over 120           |The fasting blood sugar test results over 120 mg/dl.             |Categorical (Bin)|\n",
    "|EKG results            |The electrocardiogram results of the patient.                    |Categorical      |\n",
    "|Max HR                 |The maximum heart rate levels achieved during exercise testing.  |Numeric          |\n",
    "|Exercise angina        |The angina experienced during exercise testing.                  |Categorical (Bin)|\n",
    "|ST depression          |The ST depression on an Electrocardiogram.                       |Numeric          |\n",
    "|Slope of ST            |The slope of ST segment electrocardiogram readings.              |Categorical      |\n",
    "|Number of vessels fluro|The amount vessels seen in Fluoroscopy images.                   |Numeric          |\n",
    "|Thallium               |The Thallium Stress test findings.                               |Categorical      |\n",
    "|Heart Disease          |Whether or not the patient has been diagnosed with Heart Disease.|Categorical (Bin)|"
   ]
  },
  {
   "cell_type": "markdown",
   "id": "cb6f318d",
   "metadata": {},
   "source": [
    "### 1.1.2 Обзор датасета <a class=\"anchor\" id=\"sub_section_1_1_2\"></a>"
   ]
  },
  {
   "cell_type": "code",
   "execution_count": 2,
   "id": "1661f4c5",
   "metadata": {},
   "outputs": [
    {
     "data": {
      "text/html": [
       "<div>\n",
       "<style scoped>\n",
       "    .dataframe tbody tr th:only-of-type {\n",
       "        vertical-align: middle;\n",
       "    }\n",
       "\n",
       "    .dataframe tbody tr th {\n",
       "        vertical-align: top;\n",
       "    }\n",
       "\n",
       "    .dataframe thead th {\n",
       "        text-align: right;\n",
       "    }\n",
       "</style>\n",
       "<table border=\"1\" class=\"dataframe\">\n",
       "  <thead>\n",
       "    <tr style=\"text-align: right;\">\n",
       "      <th></th>\n",
       "      <th>Age</th>\n",
       "      <th>Sex</th>\n",
       "      <th>Chest pain type</th>\n",
       "      <th>BP</th>\n",
       "      <th>Cholesterol</th>\n",
       "      <th>FBS over 120</th>\n",
       "      <th>EKG results</th>\n",
       "      <th>Max HR</th>\n",
       "      <th>Exercise angina</th>\n",
       "      <th>ST depression</th>\n",
       "      <th>Slope of ST</th>\n",
       "      <th>Number of vessels fluro</th>\n",
       "      <th>Thallium</th>\n",
       "      <th>Heart Disease</th>\n",
       "    </tr>\n",
       "    <tr>\n",
       "      <th>index</th>\n",
       "      <th></th>\n",
       "      <th></th>\n",
       "      <th></th>\n",
       "      <th></th>\n",
       "      <th></th>\n",
       "      <th></th>\n",
       "      <th></th>\n",
       "      <th></th>\n",
       "      <th></th>\n",
       "      <th></th>\n",
       "      <th></th>\n",
       "      <th></th>\n",
       "      <th></th>\n",
       "      <th></th>\n",
       "    </tr>\n",
       "  </thead>\n",
       "  <tbody>\n",
       "    <tr>\n",
       "      <th>0</th>\n",
       "      <td>70</td>\n",
       "      <td>1</td>\n",
       "      <td>4</td>\n",
       "      <td>130</td>\n",
       "      <td>322</td>\n",
       "      <td>0</td>\n",
       "      <td>2</td>\n",
       "      <td>109</td>\n",
       "      <td>0</td>\n",
       "      <td>2.4</td>\n",
       "      <td>2</td>\n",
       "      <td>3</td>\n",
       "      <td>3</td>\n",
       "      <td>Presence</td>\n",
       "    </tr>\n",
       "    <tr>\n",
       "      <th>1</th>\n",
       "      <td>67</td>\n",
       "      <td>0</td>\n",
       "      <td>3</td>\n",
       "      <td>115</td>\n",
       "      <td>564</td>\n",
       "      <td>0</td>\n",
       "      <td>2</td>\n",
       "      <td>160</td>\n",
       "      <td>0</td>\n",
       "      <td>1.6</td>\n",
       "      <td>2</td>\n",
       "      <td>0</td>\n",
       "      <td>7</td>\n",
       "      <td>Absence</td>\n",
       "    </tr>\n",
       "    <tr>\n",
       "      <th>2</th>\n",
       "      <td>57</td>\n",
       "      <td>1</td>\n",
       "      <td>2</td>\n",
       "      <td>124</td>\n",
       "      <td>261</td>\n",
       "      <td>0</td>\n",
       "      <td>0</td>\n",
       "      <td>141</td>\n",
       "      <td>0</td>\n",
       "      <td>0.3</td>\n",
       "      <td>1</td>\n",
       "      <td>0</td>\n",
       "      <td>7</td>\n",
       "      <td>Presence</td>\n",
       "    </tr>\n",
       "    <tr>\n",
       "      <th>3</th>\n",
       "      <td>64</td>\n",
       "      <td>1</td>\n",
       "      <td>4</td>\n",
       "      <td>128</td>\n",
       "      <td>263</td>\n",
       "      <td>0</td>\n",
       "      <td>0</td>\n",
       "      <td>105</td>\n",
       "      <td>1</td>\n",
       "      <td>0.2</td>\n",
       "      <td>2</td>\n",
       "      <td>1</td>\n",
       "      <td>7</td>\n",
       "      <td>Absence</td>\n",
       "    </tr>\n",
       "    <tr>\n",
       "      <th>4</th>\n",
       "      <td>74</td>\n",
       "      <td>0</td>\n",
       "      <td>2</td>\n",
       "      <td>120</td>\n",
       "      <td>269</td>\n",
       "      <td>0</td>\n",
       "      <td>2</td>\n",
       "      <td>121</td>\n",
       "      <td>1</td>\n",
       "      <td>0.2</td>\n",
       "      <td>1</td>\n",
       "      <td>1</td>\n",
       "      <td>3</td>\n",
       "      <td>Absence</td>\n",
       "    </tr>\n",
       "    <tr>\n",
       "      <th>5</th>\n",
       "      <td>65</td>\n",
       "      <td>1</td>\n",
       "      <td>4</td>\n",
       "      <td>120</td>\n",
       "      <td>177</td>\n",
       "      <td>0</td>\n",
       "      <td>0</td>\n",
       "      <td>140</td>\n",
       "      <td>0</td>\n",
       "      <td>0.4</td>\n",
       "      <td>1</td>\n",
       "      <td>0</td>\n",
       "      <td>7</td>\n",
       "      <td>Absence</td>\n",
       "    </tr>\n",
       "  </tbody>\n",
       "</table>\n",
       "</div>"
      ],
      "text/plain": [
       "       Age  Sex  Chest pain type   BP  Cholesterol  FBS over 120  EKG results  \\\n",
       "index                                                                           \n",
       "0       70    1                4  130          322             0            2   \n",
       "1       67    0                3  115          564             0            2   \n",
       "2       57    1                2  124          261             0            0   \n",
       "3       64    1                4  128          263             0            0   \n",
       "4       74    0                2  120          269             0            2   \n",
       "5       65    1                4  120          177             0            0   \n",
       "\n",
       "       Max HR  Exercise angina  ST depression  Slope of ST  \\\n",
       "index                                                        \n",
       "0         109                0            2.4            2   \n",
       "1         160                0            1.6            2   \n",
       "2         141                0            0.3            1   \n",
       "3         105                1            0.2            2   \n",
       "4         121                1            0.2            1   \n",
       "5         140                0            0.4            1   \n",
       "\n",
       "       Number of vessels fluro  Thallium Heart Disease  \n",
       "index                                                   \n",
       "0                            3         3      Presence  \n",
       "1                            0         7       Absence  \n",
       "2                            0         7      Presence  \n",
       "3                            1         7       Absence  \n",
       "4                            1         3       Absence  \n",
       "5                            0         7       Absence  "
      ]
     },
     "execution_count": 2,
     "metadata": {},
     "output_type": "execute_result"
    }
   ],
   "source": [
    "phd_data = pd.read_csv('../../ВКР/Datasets/Heart_Disease_Prediction.csv', index_col='index')\n",
    "phd_data.head(6)"
   ]
  },
  {
   "cell_type": "code",
   "execution_count": 3,
   "id": "29b918bb",
   "metadata": {},
   "outputs": [],
   "source": [
    "phd_data.replace({'Presence': 1, 'Absence': 0}, inplace=True)"
   ]
  },
  {
   "cell_type": "code",
   "execution_count": 4,
   "id": "932a828b",
   "metadata": {
    "scrolled": true
   },
   "outputs": [
    {
     "name": "stdout",
     "output_type": "stream",
     "text": [
      "<class 'pandas.core.frame.DataFrame'>\n",
      "Int64Index: 270 entries, 0 to 269\n",
      "Data columns (total 14 columns):\n",
      " #   Column                   Non-Null Count  Dtype  \n",
      "---  ------                   --------------  -----  \n",
      " 0   Age                      270 non-null    int64  \n",
      " 1   Sex                      270 non-null    int64  \n",
      " 2   Chest pain type          270 non-null    int64  \n",
      " 3   BP                       270 non-null    int64  \n",
      " 4   Cholesterol              270 non-null    int64  \n",
      " 5   FBS over 120             270 non-null    int64  \n",
      " 6   EKG results              270 non-null    int64  \n",
      " 7   Max HR                   270 non-null    int64  \n",
      " 8   Exercise angina          270 non-null    int64  \n",
      " 9   ST depression            270 non-null    float64\n",
      " 10  Slope of ST              270 non-null    int64  \n",
      " 11  Number of vessels fluro  270 non-null    int64  \n",
      " 12  Thallium                 270 non-null    int64  \n",
      " 13  Heart Disease            270 non-null    int64  \n",
      "dtypes: float64(1), int64(13)\n",
      "memory usage: 31.6 KB\n"
     ]
    }
   ],
   "source": [
    "phd_data.info()"
   ]
  },
  {
   "cell_type": "code",
   "execution_count": 5,
   "id": "c30d78f5",
   "metadata": {},
   "outputs": [
    {
     "data": {
      "text/html": [
       "<div>\n",
       "<style scoped>\n",
       "    .dataframe tbody tr th:only-of-type {\n",
       "        vertical-align: middle;\n",
       "    }\n",
       "\n",
       "    .dataframe tbody tr th {\n",
       "        vertical-align: top;\n",
       "    }\n",
       "\n",
       "    .dataframe thead th {\n",
       "        text-align: right;\n",
       "    }\n",
       "</style>\n",
       "<table border=\"1\" class=\"dataframe\">\n",
       "  <thead>\n",
       "    <tr style=\"text-align: right;\">\n",
       "      <th></th>\n",
       "      <th>Age</th>\n",
       "      <th>Sex</th>\n",
       "      <th>Chest pain type</th>\n",
       "      <th>BP</th>\n",
       "      <th>Cholesterol</th>\n",
       "      <th>FBS over 120</th>\n",
       "      <th>EKG results</th>\n",
       "      <th>Max HR</th>\n",
       "      <th>Exercise angina</th>\n",
       "      <th>ST depression</th>\n",
       "      <th>Slope of ST</th>\n",
       "      <th>Number of vessels fluro</th>\n",
       "      <th>Thallium</th>\n",
       "      <th>Heart Disease</th>\n",
       "    </tr>\n",
       "  </thead>\n",
       "  <tbody>\n",
       "    <tr>\n",
       "      <th>count</th>\n",
       "      <td>270.000000</td>\n",
       "      <td>270.000000</td>\n",
       "      <td>270.000000</td>\n",
       "      <td>270.000000</td>\n",
       "      <td>270.000000</td>\n",
       "      <td>270.000000</td>\n",
       "      <td>270.000000</td>\n",
       "      <td>270.000000</td>\n",
       "      <td>270.000000</td>\n",
       "      <td>270.00000</td>\n",
       "      <td>270.000000</td>\n",
       "      <td>270.000000</td>\n",
       "      <td>270.000000</td>\n",
       "      <td>270.000000</td>\n",
       "    </tr>\n",
       "    <tr>\n",
       "      <th>mean</th>\n",
       "      <td>54.433333</td>\n",
       "      <td>0.677778</td>\n",
       "      <td>3.174074</td>\n",
       "      <td>131.344444</td>\n",
       "      <td>249.659259</td>\n",
       "      <td>0.148148</td>\n",
       "      <td>1.022222</td>\n",
       "      <td>149.677778</td>\n",
       "      <td>0.329630</td>\n",
       "      <td>1.05000</td>\n",
       "      <td>1.585185</td>\n",
       "      <td>0.670370</td>\n",
       "      <td>4.696296</td>\n",
       "      <td>0.444444</td>\n",
       "    </tr>\n",
       "    <tr>\n",
       "      <th>std</th>\n",
       "      <td>9.109067</td>\n",
       "      <td>0.468195</td>\n",
       "      <td>0.950090</td>\n",
       "      <td>17.861608</td>\n",
       "      <td>51.686237</td>\n",
       "      <td>0.355906</td>\n",
       "      <td>0.997891</td>\n",
       "      <td>23.165717</td>\n",
       "      <td>0.470952</td>\n",
       "      <td>1.14521</td>\n",
       "      <td>0.614390</td>\n",
       "      <td>0.943896</td>\n",
       "      <td>1.940659</td>\n",
       "      <td>0.497827</td>\n",
       "    </tr>\n",
       "    <tr>\n",
       "      <th>min</th>\n",
       "      <td>29.000000</td>\n",
       "      <td>0.000000</td>\n",
       "      <td>1.000000</td>\n",
       "      <td>94.000000</td>\n",
       "      <td>126.000000</td>\n",
       "      <td>0.000000</td>\n",
       "      <td>0.000000</td>\n",
       "      <td>71.000000</td>\n",
       "      <td>0.000000</td>\n",
       "      <td>0.00000</td>\n",
       "      <td>1.000000</td>\n",
       "      <td>0.000000</td>\n",
       "      <td>3.000000</td>\n",
       "      <td>0.000000</td>\n",
       "    </tr>\n",
       "    <tr>\n",
       "      <th>25%</th>\n",
       "      <td>48.000000</td>\n",
       "      <td>0.000000</td>\n",
       "      <td>3.000000</td>\n",
       "      <td>120.000000</td>\n",
       "      <td>213.000000</td>\n",
       "      <td>0.000000</td>\n",
       "      <td>0.000000</td>\n",
       "      <td>133.000000</td>\n",
       "      <td>0.000000</td>\n",
       "      <td>0.00000</td>\n",
       "      <td>1.000000</td>\n",
       "      <td>0.000000</td>\n",
       "      <td>3.000000</td>\n",
       "      <td>0.000000</td>\n",
       "    </tr>\n",
       "    <tr>\n",
       "      <th>50%</th>\n",
       "      <td>55.000000</td>\n",
       "      <td>1.000000</td>\n",
       "      <td>3.000000</td>\n",
       "      <td>130.000000</td>\n",
       "      <td>245.000000</td>\n",
       "      <td>0.000000</td>\n",
       "      <td>2.000000</td>\n",
       "      <td>153.500000</td>\n",
       "      <td>0.000000</td>\n",
       "      <td>0.80000</td>\n",
       "      <td>2.000000</td>\n",
       "      <td>0.000000</td>\n",
       "      <td>3.000000</td>\n",
       "      <td>0.000000</td>\n",
       "    </tr>\n",
       "    <tr>\n",
       "      <th>75%</th>\n",
       "      <td>61.000000</td>\n",
       "      <td>1.000000</td>\n",
       "      <td>4.000000</td>\n",
       "      <td>140.000000</td>\n",
       "      <td>280.000000</td>\n",
       "      <td>0.000000</td>\n",
       "      <td>2.000000</td>\n",
       "      <td>166.000000</td>\n",
       "      <td>1.000000</td>\n",
       "      <td>1.60000</td>\n",
       "      <td>2.000000</td>\n",
       "      <td>1.000000</td>\n",
       "      <td>7.000000</td>\n",
       "      <td>1.000000</td>\n",
       "    </tr>\n",
       "    <tr>\n",
       "      <th>max</th>\n",
       "      <td>77.000000</td>\n",
       "      <td>1.000000</td>\n",
       "      <td>4.000000</td>\n",
       "      <td>200.000000</td>\n",
       "      <td>564.000000</td>\n",
       "      <td>1.000000</td>\n",
       "      <td>2.000000</td>\n",
       "      <td>202.000000</td>\n",
       "      <td>1.000000</td>\n",
       "      <td>6.20000</td>\n",
       "      <td>3.000000</td>\n",
       "      <td>3.000000</td>\n",
       "      <td>7.000000</td>\n",
       "      <td>1.000000</td>\n",
       "    </tr>\n",
       "  </tbody>\n",
       "</table>\n",
       "</div>"
      ],
      "text/plain": [
       "              Age         Sex  Chest pain type          BP  Cholesterol  \\\n",
       "count  270.000000  270.000000       270.000000  270.000000   270.000000   \n",
       "mean    54.433333    0.677778         3.174074  131.344444   249.659259   \n",
       "std      9.109067    0.468195         0.950090   17.861608    51.686237   \n",
       "min     29.000000    0.000000         1.000000   94.000000   126.000000   \n",
       "25%     48.000000    0.000000         3.000000  120.000000   213.000000   \n",
       "50%     55.000000    1.000000         3.000000  130.000000   245.000000   \n",
       "75%     61.000000    1.000000         4.000000  140.000000   280.000000   \n",
       "max     77.000000    1.000000         4.000000  200.000000   564.000000   \n",
       "\n",
       "       FBS over 120  EKG results      Max HR  Exercise angina  ST depression  \\\n",
       "count    270.000000   270.000000  270.000000       270.000000      270.00000   \n",
       "mean       0.148148     1.022222  149.677778         0.329630        1.05000   \n",
       "std        0.355906     0.997891   23.165717         0.470952        1.14521   \n",
       "min        0.000000     0.000000   71.000000         0.000000        0.00000   \n",
       "25%        0.000000     0.000000  133.000000         0.000000        0.00000   \n",
       "50%        0.000000     2.000000  153.500000         0.000000        0.80000   \n",
       "75%        0.000000     2.000000  166.000000         1.000000        1.60000   \n",
       "max        1.000000     2.000000  202.000000         1.000000        6.20000   \n",
       "\n",
       "       Slope of ST  Number of vessels fluro    Thallium  Heart Disease  \n",
       "count   270.000000               270.000000  270.000000     270.000000  \n",
       "mean      1.585185                 0.670370    4.696296       0.444444  \n",
       "std       0.614390                 0.943896    1.940659       0.497827  \n",
       "min       1.000000                 0.000000    3.000000       0.000000  \n",
       "25%       1.000000                 0.000000    3.000000       0.000000  \n",
       "50%       2.000000                 0.000000    3.000000       0.000000  \n",
       "75%       2.000000                 1.000000    7.000000       1.000000  \n",
       "max       3.000000                 3.000000    7.000000       1.000000  "
      ]
     },
     "execution_count": 5,
     "metadata": {},
     "output_type": "execute_result"
    }
   ],
   "source": [
    "phd_data.describe()"
   ]
  },
  {
   "cell_type": "code",
   "execution_count": 6,
   "id": "69b2a849",
   "metadata": {},
   "outputs": [
    {
     "data": {
      "text/plain": [
       "(270, 14)"
      ]
     },
     "execution_count": 6,
     "metadata": {},
     "output_type": "execute_result"
    }
   ],
   "source": [
    "phd_data.shape"
   ]
  },
  {
   "cell_type": "code",
   "execution_count": 7,
   "id": "ae9bd73b",
   "metadata": {},
   "outputs": [
    {
     "data": {
      "text/plain": [
       "<AxesSubplot:>"
      ]
     },
     "execution_count": 7,
     "metadata": {},
     "output_type": "execute_result"
    },
    {
     "data": {
      "image/png": "[encoded data removed]",
      "text/plain": [
       "<Figure size 720x720 with 2 Axes>"
      ]
     },
     "metadata": {
      "needs_background": "light"
     },
     "output_type": "display_data"
    }
   ],
   "source": [
    "plt.figure(figsize=(10, 10))\n",
    "sns.heatmap(phd_data.corr(), annot=True)"
   ]
  },
  {
   "cell_type": "code",
   "execution_count": 8,
   "id": "e44bb235",
   "metadata": {
    "scrolled": true
   },
   "outputs": [
    {
     "data": {
      "text/plain": [
       "Age                        2.471848\n",
       "Sex                        1.784761\n",
       "Chest pain type            2.400219\n",
       "BP                         2.394075\n",
       "Cholesterol                1.829586\n",
       "FBS over 120               1.495045\n",
       "EKG results                2.183973\n",
       "Max HR                    -1.959862\n",
       "Exercise angina            2.927466\n",
       "ST depression              3.336540\n",
       "Slope of ST                2.898190\n",
       "Number of vessels fluro    3.082684\n",
       "Thallium                   3.433992\n",
       "Heart Disease              4.103383\n",
       "dtype: float64"
      ]
     },
     "execution_count": 8,
     "metadata": {},
     "output_type": "execute_result"
    }
   ],
   "source": [
    "phd_data.corr().sum()"
   ]
  },
  {
   "cell_type": "code",
   "execution_count": 9,
   "id": "eac4bee9",
   "metadata": {},
   "outputs": [
    {
     "data": {
      "text/plain": [
       "count    270.000000\n",
       "mean       0.444444\n",
       "std        0.497827\n",
       "min        0.000000\n",
       "25%        0.000000\n",
       "50%        0.000000\n",
       "75%        1.000000\n",
       "max        1.000000\n",
       "Name: Heart Disease, dtype: float64"
      ]
     },
     "execution_count": 9,
     "metadata": {},
     "output_type": "execute_result"
    }
   ],
   "source": [
    "phd_data['Heart Disease'].describe()"
   ]
  },
  {
   "cell_type": "code",
   "execution_count": 10,
   "id": "bf7b2491",
   "metadata": {},
   "outputs": [
    {
     "data": {
      "text/plain": [
       "44.44444444444444"
      ]
     },
     "execution_count": 10,
     "metadata": {},
     "output_type": "execute_result"
    }
   ],
   "source": [
    "len(phd_data[phd_data['Heart Disease'] == 1]) / 270 * 100"
   ]
  },
  {
   "cell_type": "markdown",
   "id": "2a13a116",
   "metadata": {},
   "source": [
    "## 1.2 Датасет *Cleveland Clinic Heart Disease Dataset* <a class=\"anchor\" id=\"section_1_2\"></a>"
   ]
  },
  {
   "cell_type": "markdown",
   "id": "66efce24",
   "metadata": {},
   "source": [
    "### 1.2.1 Описание переменных <a class=\"anchor\" id=\"sub_section_1_2_1\"></a>\n",
    "|Column name|Description                                                                                              |Type|\n",
    "|-----------|--------------------------------------------------------------------------------------------------------------|-----------------|\n",
    "|age        |age in years                                                                                                  |Numeric          |\n",
    "|sex        |sex (1 = male; 0 = female)                                                                                    |Categorical (Bin)|\n",
    "|cp         |chest pain type (1: typical angina; 2: atypical angina; 3: non-anginal pain; 4: asymptomatic)                 |Categorical      |\n",
    "|trestbps   |resting blood pressure (in mm Hg on admission to the hospital)                                                |Numeric          |\n",
    "|chol       |serum cholestoral in mg/dl                                                                                    |Numeric          |\n",
    "|fbs        |fasting blood sugar > 120 mg/dl (1 = true; 0 = false)                                                         |Categorical (Bin)|\n",
    "|restecg    |resting electrocardiographic results (0: normal; 1: having ST-T wave abnormality (T wave inversions and/or ST elevation or depression of > 0.05 mV); 2: showing probable or definite left ventricular hypertrophy by Estes' criteria)    |Categorical      |\n",
    "|thalach    |maximum heart rate achieved                                                                                   |Numeric          |\n",
    "|exang      |exercise induced angina (1 = yes; 0 = no)                                                                     |Categorical (Bin)|\n",
    "|oldpeak    |ST depression induced by exercise relative to rest                                                            |Numeric          |\n",
    "|slope      |the slope of the peak exercise ST segment (1: upsloping 2: flat 3: downsloping)                               |Categorical      |\n",
    "|ca         |number of major vessels (0-3) colored by flourosopy (for calcification of vessels)                            |Categorical      |\n",
    "|thal       |results of nuclear stress test (3 = normal; 6 = fixed defect; 7 = reversable defect)                          |Categorical      |\n",
    "|num        |target variable representing diagnosis of heart disease (angiographic disease status) in any major vessel (0: < 50% diameter narrowing; 1-4: > 50% diameter narrowing)                                                                     |Categorical    |"
   ]
  },
  {
   "cell_type": "markdown",
   "id": "73e5aa96",
   "metadata": {},
   "source": [
    "### 1.2.2 Обзор датасета <a class=\"anchor\" id=\"sub_section_1_2_2\"></a>"
   ]
  },
  {
   "cell_type": "code",
   "execution_count": 11,
   "id": "9fed2c55",
   "metadata": {},
   "outputs": [
    {
     "data": {
      "text/html": [
       "<div>\n",
       "<style scoped>\n",
       "    .dataframe tbody tr th:only-of-type {\n",
       "        vertical-align: middle;\n",
       "    }\n",
       "\n",
       "    .dataframe tbody tr th {\n",
       "        vertical-align: top;\n",
       "    }\n",
       "\n",
       "    .dataframe thead th {\n",
       "        text-align: right;\n",
       "    }\n",
       "</style>\n",
       "<table border=\"1\" class=\"dataframe\">\n",
       "  <thead>\n",
       "    <tr style=\"text-align: right;\">\n",
       "      <th></th>\n",
       "      <th>age</th>\n",
       "      <th>sex</th>\n",
       "      <th>cp</th>\n",
       "      <th>trestbps</th>\n",
       "      <th>chol</th>\n",
       "      <th>fbs</th>\n",
       "      <th>restecg</th>\n",
       "      <th>thalach</th>\n",
       "      <th>exang</th>\n",
       "      <th>oldpeak</th>\n",
       "      <th>slope</th>\n",
       "      <th>ca</th>\n",
       "      <th>thal</th>\n",
       "      <th>num</th>\n",
       "    </tr>\n",
       "  </thead>\n",
       "  <tbody>\n",
       "    <tr>\n",
       "      <th>0</th>\n",
       "      <td>63</td>\n",
       "      <td>1</td>\n",
       "      <td>1</td>\n",
       "      <td>145</td>\n",
       "      <td>233</td>\n",
       "      <td>1</td>\n",
       "      <td>2</td>\n",
       "      <td>150</td>\n",
       "      <td>0</td>\n",
       "      <td>2.3</td>\n",
       "      <td>3</td>\n",
       "      <td>0</td>\n",
       "      <td>6</td>\n",
       "      <td>0</td>\n",
       "    </tr>\n",
       "    <tr>\n",
       "      <th>1</th>\n",
       "      <td>67</td>\n",
       "      <td>1</td>\n",
       "      <td>4</td>\n",
       "      <td>160</td>\n",
       "      <td>286</td>\n",
       "      <td>0</td>\n",
       "      <td>2</td>\n",
       "      <td>108</td>\n",
       "      <td>1</td>\n",
       "      <td>1.5</td>\n",
       "      <td>2</td>\n",
       "      <td>3</td>\n",
       "      <td>3</td>\n",
       "      <td>2</td>\n",
       "    </tr>\n",
       "    <tr>\n",
       "      <th>2</th>\n",
       "      <td>67</td>\n",
       "      <td>1</td>\n",
       "      <td>4</td>\n",
       "      <td>120</td>\n",
       "      <td>229</td>\n",
       "      <td>0</td>\n",
       "      <td>2</td>\n",
       "      <td>129</td>\n",
       "      <td>1</td>\n",
       "      <td>2.6</td>\n",
       "      <td>2</td>\n",
       "      <td>2</td>\n",
       "      <td>7</td>\n",
       "      <td>1</td>\n",
       "    </tr>\n",
       "    <tr>\n",
       "      <th>3</th>\n",
       "      <td>37</td>\n",
       "      <td>1</td>\n",
       "      <td>3</td>\n",
       "      <td>130</td>\n",
       "      <td>250</td>\n",
       "      <td>0</td>\n",
       "      <td>0</td>\n",
       "      <td>187</td>\n",
       "      <td>0</td>\n",
       "      <td>3.5</td>\n",
       "      <td>3</td>\n",
       "      <td>0</td>\n",
       "      <td>3</td>\n",
       "      <td>0</td>\n",
       "    </tr>\n",
       "    <tr>\n",
       "      <th>4</th>\n",
       "      <td>41</td>\n",
       "      <td>0</td>\n",
       "      <td>2</td>\n",
       "      <td>130</td>\n",
       "      <td>204</td>\n",
       "      <td>0</td>\n",
       "      <td>2</td>\n",
       "      <td>172</td>\n",
       "      <td>0</td>\n",
       "      <td>1.4</td>\n",
       "      <td>1</td>\n",
       "      <td>0</td>\n",
       "      <td>3</td>\n",
       "      <td>0</td>\n",
       "    </tr>\n",
       "    <tr>\n",
       "      <th>5</th>\n",
       "      <td>56</td>\n",
       "      <td>1</td>\n",
       "      <td>2</td>\n",
       "      <td>120</td>\n",
       "      <td>236</td>\n",
       "      <td>0</td>\n",
       "      <td>0</td>\n",
       "      <td>178</td>\n",
       "      <td>0</td>\n",
       "      <td>0.8</td>\n",
       "      <td>1</td>\n",
       "      <td>0</td>\n",
       "      <td>3</td>\n",
       "      <td>0</td>\n",
       "    </tr>\n",
       "  </tbody>\n",
       "</table>\n",
       "</div>"
      ],
      "text/plain": [
       "   age  sex  cp  trestbps  chol  fbs  restecg  thalach  exang  oldpeak  slope  \\\n",
       "0   63    1   1       145   233    1        2      150      0      2.3      3   \n",
       "1   67    1   4       160   286    0        2      108      1      1.5      2   \n",
       "2   67    1   4       120   229    0        2      129      1      2.6      2   \n",
       "3   37    1   3       130   250    0        0      187      0      3.5      3   \n",
       "4   41    0   2       130   204    0        2      172      0      1.4      1   \n",
       "5   56    1   2       120   236    0        0      178      0      0.8      1   \n",
       "\n",
       "  ca thal  num  \n",
       "0  0    6    0  \n",
       "1  3    3    2  \n",
       "2  2    7    1  \n",
       "3  0    3    0  \n",
       "4  0    3    0  \n",
       "5  0    3    0  "
      ]
     },
     "execution_count": 11,
     "metadata": {},
     "output_type": "execute_result"
    }
   ],
   "source": [
    "cchd_data = pd.read_csv('../../ВКР/Datasets/processed_cleveland.csv')\n",
    "cchd_data.head(6)"
   ]
  },
  {
   "cell_type": "code",
   "execution_count": 12,
   "id": "28ce2f93",
   "metadata": {},
   "outputs": [
    {
     "name": "stdout",
     "output_type": "stream",
     "text": [
      "<class 'pandas.core.frame.DataFrame'>\n",
      "RangeIndex: 303 entries, 0 to 302\n",
      "Data columns (total 14 columns):\n",
      " #   Column    Non-Null Count  Dtype  \n",
      "---  ------    --------------  -----  \n",
      " 0   age       303 non-null    int64  \n",
      " 1   sex       303 non-null    int64  \n",
      " 2   cp        303 non-null    int64  \n",
      " 3   trestbps  303 non-null    int64  \n",
      " 4   chol      303 non-null    int64  \n",
      " 5   fbs       303 non-null    int64  \n",
      " 6   restecg   303 non-null    int64  \n",
      " 7   thalach   303 non-null    int64  \n",
      " 8   exang     303 non-null    int64  \n",
      " 9   oldpeak   303 non-null    float64\n",
      " 10  slope     303 non-null    int64  \n",
      " 11  ca        303 non-null    object \n",
      " 12  thal      303 non-null    object \n",
      " 13  num       303 non-null    int64  \n",
      "dtypes: float64(1), int64(11), object(2)\n",
      "memory usage: 33.3+ KB\n"
     ]
    }
   ],
   "source": [
    "cchd_data.info()"
   ]
  },
  {
   "cell_type": "code",
   "execution_count": 13,
   "id": "d38df80b",
   "metadata": {},
   "outputs": [
    {
     "data": {
      "text/html": [
       "<div>\n",
       "<style scoped>\n",
       "    .dataframe tbody tr th:only-of-type {\n",
       "        vertical-align: middle;\n",
       "    }\n",
       "\n",
       "    .dataframe tbody tr th {\n",
       "        vertical-align: top;\n",
       "    }\n",
       "\n",
       "    .dataframe thead th {\n",
       "        text-align: right;\n",
       "    }\n",
       "</style>\n",
       "<table border=\"1\" class=\"dataframe\">\n",
       "  <thead>\n",
       "    <tr style=\"text-align: right;\">\n",
       "      <th></th>\n",
       "      <th>age</th>\n",
       "      <th>sex</th>\n",
       "      <th>cp</th>\n",
       "      <th>trestbps</th>\n",
       "      <th>chol</th>\n",
       "      <th>fbs</th>\n",
       "      <th>restecg</th>\n",
       "      <th>thalach</th>\n",
       "      <th>exang</th>\n",
       "      <th>oldpeak</th>\n",
       "      <th>slope</th>\n",
       "      <th>num</th>\n",
       "    </tr>\n",
       "  </thead>\n",
       "  <tbody>\n",
       "    <tr>\n",
       "      <th>count</th>\n",
       "      <td>303.000000</td>\n",
       "      <td>303.000000</td>\n",
       "      <td>303.000000</td>\n",
       "      <td>303.000000</td>\n",
       "      <td>303.000000</td>\n",
       "      <td>303.000000</td>\n",
       "      <td>303.000000</td>\n",
       "      <td>303.000000</td>\n",
       "      <td>303.000000</td>\n",
       "      <td>303.000000</td>\n",
       "      <td>303.000000</td>\n",
       "      <td>303.000000</td>\n",
       "    </tr>\n",
       "    <tr>\n",
       "      <th>mean</th>\n",
       "      <td>54.438944</td>\n",
       "      <td>0.679868</td>\n",
       "      <td>3.158416</td>\n",
       "      <td>131.689769</td>\n",
       "      <td>246.693069</td>\n",
       "      <td>0.148515</td>\n",
       "      <td>0.990099</td>\n",
       "      <td>149.607261</td>\n",
       "      <td>0.326733</td>\n",
       "      <td>1.039604</td>\n",
       "      <td>1.600660</td>\n",
       "      <td>0.937294</td>\n",
       "    </tr>\n",
       "    <tr>\n",
       "      <th>std</th>\n",
       "      <td>9.038662</td>\n",
       "      <td>0.467299</td>\n",
       "      <td>0.960126</td>\n",
       "      <td>17.599748</td>\n",
       "      <td>51.776918</td>\n",
       "      <td>0.356198</td>\n",
       "      <td>0.994971</td>\n",
       "      <td>22.875003</td>\n",
       "      <td>0.469794</td>\n",
       "      <td>1.161075</td>\n",
       "      <td>0.616226</td>\n",
       "      <td>1.228536</td>\n",
       "    </tr>\n",
       "    <tr>\n",
       "      <th>min</th>\n",
       "      <td>29.000000</td>\n",
       "      <td>0.000000</td>\n",
       "      <td>1.000000</td>\n",
       "      <td>94.000000</td>\n",
       "      <td>126.000000</td>\n",
       "      <td>0.000000</td>\n",
       "      <td>0.000000</td>\n",
       "      <td>71.000000</td>\n",
       "      <td>0.000000</td>\n",
       "      <td>0.000000</td>\n",
       "      <td>1.000000</td>\n",
       "      <td>0.000000</td>\n",
       "    </tr>\n",
       "    <tr>\n",
       "      <th>25%</th>\n",
       "      <td>48.000000</td>\n",
       "      <td>0.000000</td>\n",
       "      <td>3.000000</td>\n",
       "      <td>120.000000</td>\n",
       "      <td>211.000000</td>\n",
       "      <td>0.000000</td>\n",
       "      <td>0.000000</td>\n",
       "      <td>133.500000</td>\n",
       "      <td>0.000000</td>\n",
       "      <td>0.000000</td>\n",
       "      <td>1.000000</td>\n",
       "      <td>0.000000</td>\n",
       "    </tr>\n",
       "    <tr>\n",
       "      <th>50%</th>\n",
       "      <td>56.000000</td>\n",
       "      <td>1.000000</td>\n",
       "      <td>3.000000</td>\n",
       "      <td>130.000000</td>\n",
       "      <td>241.000000</td>\n",
       "      <td>0.000000</td>\n",
       "      <td>1.000000</td>\n",
       "      <td>153.000000</td>\n",
       "      <td>0.000000</td>\n",
       "      <td>0.800000</td>\n",
       "      <td>2.000000</td>\n",
       "      <td>0.000000</td>\n",
       "    </tr>\n",
       "    <tr>\n",
       "      <th>75%</th>\n",
       "      <td>61.000000</td>\n",
       "      <td>1.000000</td>\n",
       "      <td>4.000000</td>\n",
       "      <td>140.000000</td>\n",
       "      <td>275.000000</td>\n",
       "      <td>0.000000</td>\n",
       "      <td>2.000000</td>\n",
       "      <td>166.000000</td>\n",
       "      <td>1.000000</td>\n",
       "      <td>1.600000</td>\n",
       "      <td>2.000000</td>\n",
       "      <td>2.000000</td>\n",
       "    </tr>\n",
       "    <tr>\n",
       "      <th>max</th>\n",
       "      <td>77.000000</td>\n",
       "      <td>1.000000</td>\n",
       "      <td>4.000000</td>\n",
       "      <td>200.000000</td>\n",
       "      <td>564.000000</td>\n",
       "      <td>1.000000</td>\n",
       "      <td>2.000000</td>\n",
       "      <td>202.000000</td>\n",
       "      <td>1.000000</td>\n",
       "      <td>6.200000</td>\n",
       "      <td>3.000000</td>\n",
       "      <td>4.000000</td>\n",
       "    </tr>\n",
       "  </tbody>\n",
       "</table>\n",
       "</div>"
      ],
      "text/plain": [
       "              age         sex          cp    trestbps        chol         fbs  \\\n",
       "count  303.000000  303.000000  303.000000  303.000000  303.000000  303.000000   \n",
       "mean    54.438944    0.679868    3.158416  131.689769  246.693069    0.148515   \n",
       "std      9.038662    0.467299    0.960126   17.599748   51.776918    0.356198   \n",
       "min     29.000000    0.000000    1.000000   94.000000  126.000000    0.000000   \n",
       "25%     48.000000    0.000000    3.000000  120.000000  211.000000    0.000000   \n",
       "50%     56.000000    1.000000    3.000000  130.000000  241.000000    0.000000   \n",
       "75%     61.000000    1.000000    4.000000  140.000000  275.000000    0.000000   \n",
       "max     77.000000    1.000000    4.000000  200.000000  564.000000    1.000000   \n",
       "\n",
       "          restecg     thalach       exang     oldpeak       slope         num  \n",
       "count  303.000000  303.000000  303.000000  303.000000  303.000000  303.000000  \n",
       "mean     0.990099  149.607261    0.326733    1.039604    1.600660    0.937294  \n",
       "std      0.994971   22.875003    0.469794    1.161075    0.616226    1.228536  \n",
       "min      0.000000   71.000000    0.000000    0.000000    1.000000    0.000000  \n",
       "25%      0.000000  133.500000    0.000000    0.000000    1.000000    0.000000  \n",
       "50%      1.000000  153.000000    0.000000    0.800000    2.000000    0.000000  \n",
       "75%      2.000000  166.000000    1.000000    1.600000    2.000000    2.000000  \n",
       "max      2.000000  202.000000    1.000000    6.200000    3.000000    4.000000  "
      ]
     },
     "execution_count": 13,
     "metadata": {},
     "output_type": "execute_result"
    }
   ],
   "source": [
    "cchd_data.describe()"
   ]
  },
  {
   "cell_type": "code",
   "execution_count": 14,
   "id": "a577939b",
   "metadata": {},
   "outputs": [
    {
     "data": {
      "text/plain": [
       "(303, 14)"
      ]
     },
     "execution_count": 14,
     "metadata": {},
     "output_type": "execute_result"
    }
   ],
   "source": [
    "cchd_data.shape"
   ]
  },
  {
   "cell_type": "code",
   "execution_count": 15,
   "id": "5f0715b8",
   "metadata": {},
   "outputs": [
    {
     "name": "stderr",
     "output_type": "stream",
     "text": [
      "C:\\Users\\ngumbk\\AppData\\Local\\Temp\\ipykernel_27392\\1231288863.py:2: FutureWarning: The default value of numeric_only in DataFrame.corr is deprecated. In a future version, it will default to False. Select only valid columns or specify the value of numeric_only to silence this warning.\n",
      "  sns.heatmap(cchd_data.corr(), annot=True)\n"
     ]
    },
    {
     "data": {
      "text/plain": [
       "<AxesSubplot:>"
      ]
     },
     "execution_count": 15,
     "metadata": {},
     "output_type": "execute_result"
    },
    {
     "data": {
      "image/png": "[encoded data removed]",
      "text/plain": [
       "<Figure size 720x720 with 2 Axes>"
      ]
     },
     "metadata": {
      "needs_background": "light"
     },
     "output_type": "display_data"
    }
   ],
   "source": [
    "plt.figure(figsize=(10, 10))\n",
    "sns.heatmap(cchd_data.corr(), annot=True)"
   ]
  },
  {
   "cell_type": "code",
   "execution_count": 16,
   "id": "3ebe6afe",
   "metadata": {},
   "outputs": [
    {
     "name": "stderr",
     "output_type": "stream",
     "text": [
      "C:\\Users\\ngumbk\\AppData\\Local\\Temp\\ipykernel_27392\\3743603929.py:1: FutureWarning: The default value of numeric_only in DataFrame.corr is deprecated. In a future version, it will default to False. Select only valid columns or specify the value of numeric_only to silence this warning.\n",
      "  cchd_data.corr().sum()\n"
     ]
    },
    {
     "data": {
      "text/plain": [
       "age         2.054174\n",
       "sex         1.179393\n",
       "cp          1.989035\n",
       "trestbps    2.120152\n",
       "chol        1.563648\n",
       "fbs         1.523802\n",
       "restecg     2.058440\n",
       "thalach    -1.438748\n",
       "exang       2.423452\n",
       "oldpeak     2.890636\n",
       "slope       2.486153\n",
       "num         3.190008\n",
       "dtype: float64"
      ]
     },
     "execution_count": 16,
     "metadata": {},
     "output_type": "execute_result"
    }
   ],
   "source": [
    "cchd_data.corr().sum()"
   ]
  },
  {
   "cell_type": "code",
   "execution_count": 17,
   "id": "d2cee7f7",
   "metadata": {},
   "outputs": [
    {
     "data": {
      "text/plain": [
       "164"
      ]
     },
     "execution_count": 17,
     "metadata": {},
     "output_type": "execute_result"
    }
   ],
   "source": [
    "len(cchd_data[cchd_data['num'] == 0])"
   ]
  },
  {
   "cell_type": "code",
   "execution_count": 18,
   "id": "ef369735",
   "metadata": {},
   "outputs": [
    {
     "data": {
      "text/plain": [
       "54.12541254125413"
      ]
     },
     "execution_count": 18,
     "metadata": {},
     "output_type": "execute_result"
    }
   ],
   "source": [
    "164/303 * 100"
   ]
  },
  {
   "cell_type": "markdown",
   "id": "19f10a51",
   "metadata": {},
   "source": [
    "# 2 Определение функций моделирования пропусков <a class=\"anchor\" id=\"chapter2\"></a>"
   ]
  },
  {
   "cell_type": "markdown",
   "id": "2c432a5c",
   "metadata": {},
   "source": [
    "## 2.1 MCAR <a class=\"anchor\" id=\"section_2_1\"></a>"
   ]
  },
  {
   "cell_type": "code",
   "execution_count": 19,
   "id": "0e453571",
   "metadata": {},
   "outputs": [],
   "source": [
    "def replace_random_elements(array, n):\n",
    "    flat_array = array.flatten()  # делаем одномерный массив из двумерного\n",
    "    indices = np.random.choice(flat_array.size, n, replace=False)  # выбираем случайные индексы\n",
    "    flat_array[indices] = 1  # заменяем выбранные элементы на 1\n",
    "    return flat_array.reshape(array.shape)  # возвращаем двумерный массив"
   ]
  },
  {
   "cell_type": "code",
   "execution_count": 20,
   "id": "23b82db0",
   "metadata": {},
   "outputs": [],
   "source": [
    "def make_mcar(dataset, area='All', miss_percent=5):\n",
    "    '''\n",
    "    dataset - исходный набор данных в виде pandas dataframe\n",
    "    area='All' - аргумент, принимающий наименование одного из столбцов dataset в виде строки. В случае, если не указан, пропуски моделируются во всем датасете\n",
    "    miss_percent=5 - процент моделируемых пропусков в указанной области в виде числа\n",
    "    '''\n",
    "    dataset = dataset.copy()\n",
    "    if area == 'All':\n",
    "        elements_number = dataset.shape[0] * dataset.shape[1]\n",
    "        missing_elements_number = round(miss_percent * elements_number / 100)\n",
    "        real_miss_percent = missing_elements_number / elements_number * 100 # может не равняться miss_percent, т.к. нужно целое кол-во элементов\n",
    "        \n",
    "        data_missing_indicator = np.zeros(dataset.shape) # массив индикаторов размером dataset'a\n",
    "        data_missing_indicator = replace_random_elements(data_missing_indicator, missing_elements_number)\n",
    "        \n",
    "        dataset[data_missing_indicator == 1] = np.nan        \n",
    "    else:\n",
    "        elements_number = dataset.shape[0]\n",
    "        missing_elements_number = round(miss_percent * elements_number / 100)\n",
    "        real_miss_percent = missing_elements_number / elements_number * 100 # может не равняться miss_percent, т.к. нужно целое кол-во элементов\n",
    "        \n",
    "        data_missing_indicator = np.zeros(dataset.shape[0]) # массив индикаторов размером dataset'a\n",
    "        data_missing_indicator = replace_random_elements(data_missing_indicator, missing_elements_number)\n",
    "        \n",
    "        dataset.loc[data_missing_indicator == 1, area] = np.nan\n",
    "        \n",
    "    print( \"'\" + area + \"'\", str(miss_percent) + '%', str(round(real_miss_percent, 3)) + '%', sep='; ', end='.\\n')    \n",
    "    \n",
    "    return dataset"
   ]
  },
  {
   "cell_type": "code",
   "execution_count": 21,
   "id": "d557ef47",
   "metadata": {
    "scrolled": true
   },
   "outputs": [
    {
     "name": "stdout",
     "output_type": "stream",
     "text": [
      "'All'; 40%; 40.0%.\n"
     ]
    },
    {
     "data": {
      "text/html": [
       "<div>\n",
       "<style scoped>\n",
       "    .dataframe tbody tr th:only-of-type {\n",
       "        vertical-align: middle;\n",
       "    }\n",
       "\n",
       "    .dataframe tbody tr th {\n",
       "        vertical-align: top;\n",
       "    }\n",
       "\n",
       "    .dataframe thead th {\n",
       "        text-align: right;\n",
       "    }\n",
       "</style>\n",
       "<table border=\"1\" class=\"dataframe\">\n",
       "  <thead>\n",
       "    <tr style=\"text-align: right;\">\n",
       "      <th></th>\n",
       "      <th>Age</th>\n",
       "      <th>Sex</th>\n",
       "      <th>Chest pain type</th>\n",
       "      <th>BP</th>\n",
       "      <th>Cholesterol</th>\n",
       "      <th>FBS over 120</th>\n",
       "      <th>EKG results</th>\n",
       "      <th>Max HR</th>\n",
       "      <th>Exercise angina</th>\n",
       "      <th>ST depression</th>\n",
       "      <th>Slope of ST</th>\n",
       "      <th>Number of vessels fluro</th>\n",
       "      <th>Thallium</th>\n",
       "      <th>Heart Disease</th>\n",
       "    </tr>\n",
       "    <tr>\n",
       "      <th>index</th>\n",
       "      <th></th>\n",
       "      <th></th>\n",
       "      <th></th>\n",
       "      <th></th>\n",
       "      <th></th>\n",
       "      <th></th>\n",
       "      <th></th>\n",
       "      <th></th>\n",
       "      <th></th>\n",
       "      <th></th>\n",
       "      <th></th>\n",
       "      <th></th>\n",
       "      <th></th>\n",
       "      <th></th>\n",
       "    </tr>\n",
       "  </thead>\n",
       "  <tbody>\n",
       "    <tr>\n",
       "      <th>0</th>\n",
       "      <td>70.0</td>\n",
       "      <td>1.0</td>\n",
       "      <td>4.0</td>\n",
       "      <td>130.0</td>\n",
       "      <td>NaN</td>\n",
       "      <td>0.0</td>\n",
       "      <td>2.0</td>\n",
       "      <td>109.0</td>\n",
       "      <td>NaN</td>\n",
       "      <td>2.4</td>\n",
       "      <td>2.0</td>\n",
       "      <td>3.0</td>\n",
       "      <td>NaN</td>\n",
       "      <td>1.0</td>\n",
       "    </tr>\n",
       "    <tr>\n",
       "      <th>1</th>\n",
       "      <td>NaN</td>\n",
       "      <td>NaN</td>\n",
       "      <td>NaN</td>\n",
       "      <td>115.0</td>\n",
       "      <td>564.0</td>\n",
       "      <td>NaN</td>\n",
       "      <td>NaN</td>\n",
       "      <td>160.0</td>\n",
       "      <td>0.0</td>\n",
       "      <td>NaN</td>\n",
       "      <td>NaN</td>\n",
       "      <td>0.0</td>\n",
       "      <td>7.0</td>\n",
       "      <td>NaN</td>\n",
       "    </tr>\n",
       "    <tr>\n",
       "      <th>2</th>\n",
       "      <td>57.0</td>\n",
       "      <td>NaN</td>\n",
       "      <td>2.0</td>\n",
       "      <td>124.0</td>\n",
       "      <td>NaN</td>\n",
       "      <td>0.0</td>\n",
       "      <td>0.0</td>\n",
       "      <td>141.0</td>\n",
       "      <td>0.0</td>\n",
       "      <td>NaN</td>\n",
       "      <td>1.0</td>\n",
       "      <td>NaN</td>\n",
       "      <td>7.0</td>\n",
       "      <td>NaN</td>\n",
       "    </tr>\n",
       "    <tr>\n",
       "      <th>3</th>\n",
       "      <td>64.0</td>\n",
       "      <td>NaN</td>\n",
       "      <td>NaN</td>\n",
       "      <td>128.0</td>\n",
       "      <td>NaN</td>\n",
       "      <td>NaN</td>\n",
       "      <td>0.0</td>\n",
       "      <td>NaN</td>\n",
       "      <td>NaN</td>\n",
       "      <td>0.2</td>\n",
       "      <td>2.0</td>\n",
       "      <td>1.0</td>\n",
       "      <td>7.0</td>\n",
       "      <td>0.0</td>\n",
       "    </tr>\n",
       "    <tr>\n",
       "      <th>4</th>\n",
       "      <td>74.0</td>\n",
       "      <td>NaN</td>\n",
       "      <td>2.0</td>\n",
       "      <td>120.0</td>\n",
       "      <td>269.0</td>\n",
       "      <td>0.0</td>\n",
       "      <td>2.0</td>\n",
       "      <td>NaN</td>\n",
       "      <td>1.0</td>\n",
       "      <td>0.2</td>\n",
       "      <td>NaN</td>\n",
       "      <td>1.0</td>\n",
       "      <td>NaN</td>\n",
       "      <td>0.0</td>\n",
       "    </tr>\n",
       "    <tr>\n",
       "      <th>...</th>\n",
       "      <td>...</td>\n",
       "      <td>...</td>\n",
       "      <td>...</td>\n",
       "      <td>...</td>\n",
       "      <td>...</td>\n",
       "      <td>...</td>\n",
       "      <td>...</td>\n",
       "      <td>...</td>\n",
       "      <td>...</td>\n",
       "      <td>...</td>\n",
       "      <td>...</td>\n",
       "      <td>...</td>\n",
       "      <td>...</td>\n",
       "      <td>...</td>\n",
       "    </tr>\n",
       "    <tr>\n",
       "      <th>265</th>\n",
       "      <td>52.0</td>\n",
       "      <td>NaN</td>\n",
       "      <td>3.0</td>\n",
       "      <td>NaN</td>\n",
       "      <td>199.0</td>\n",
       "      <td>NaN</td>\n",
       "      <td>0.0</td>\n",
       "      <td>NaN</td>\n",
       "      <td>NaN</td>\n",
       "      <td>0.5</td>\n",
       "      <td>1.0</td>\n",
       "      <td>NaN</td>\n",
       "      <td>NaN</td>\n",
       "      <td>0.0</td>\n",
       "    </tr>\n",
       "    <tr>\n",
       "      <th>266</th>\n",
       "      <td>NaN</td>\n",
       "      <td>NaN</td>\n",
       "      <td>NaN</td>\n",
       "      <td>NaN</td>\n",
       "      <td>263.0</td>\n",
       "      <td>NaN</td>\n",
       "      <td>0.0</td>\n",
       "      <td>173.0</td>\n",
       "      <td>NaN</td>\n",
       "      <td>0.0</td>\n",
       "      <td>NaN</td>\n",
       "      <td>0.0</td>\n",
       "      <td>NaN</td>\n",
       "      <td>NaN</td>\n",
       "    </tr>\n",
       "    <tr>\n",
       "      <th>267</th>\n",
       "      <td>NaN</td>\n",
       "      <td>0.0</td>\n",
       "      <td>2.0</td>\n",
       "      <td>NaN</td>\n",
       "      <td>294.0</td>\n",
       "      <td>0.0</td>\n",
       "      <td>2.0</td>\n",
       "      <td>153.0</td>\n",
       "      <td>0.0</td>\n",
       "      <td>NaN</td>\n",
       "      <td>2.0</td>\n",
       "      <td>NaN</td>\n",
       "      <td>NaN</td>\n",
       "      <td>0.0</td>\n",
       "    </tr>\n",
       "    <tr>\n",
       "      <th>268</th>\n",
       "      <td>57.0</td>\n",
       "      <td>1.0</td>\n",
       "      <td>NaN</td>\n",
       "      <td>140.0</td>\n",
       "      <td>NaN</td>\n",
       "      <td>NaN</td>\n",
       "      <td>0.0</td>\n",
       "      <td>148.0</td>\n",
       "      <td>0.0</td>\n",
       "      <td>NaN</td>\n",
       "      <td>2.0</td>\n",
       "      <td>0.0</td>\n",
       "      <td>NaN</td>\n",
       "      <td>0.0</td>\n",
       "    </tr>\n",
       "    <tr>\n",
       "      <th>269</th>\n",
       "      <td>67.0</td>\n",
       "      <td>1.0</td>\n",
       "      <td>NaN</td>\n",
       "      <td>NaN</td>\n",
       "      <td>286.0</td>\n",
       "      <td>0.0</td>\n",
       "      <td>NaN</td>\n",
       "      <td>108.0</td>\n",
       "      <td>NaN</td>\n",
       "      <td>1.5</td>\n",
       "      <td>2.0</td>\n",
       "      <td>3.0</td>\n",
       "      <td>3.0</td>\n",
       "      <td>1.0</td>\n",
       "    </tr>\n",
       "  </tbody>\n",
       "</table>\n",
       "<p>270 rows × 14 columns</p>\n",
       "</div>"
      ],
      "text/plain": [
       "        Age  Sex  Chest pain type     BP  Cholesterol  FBS over 120  \\\n",
       "index                                                                 \n",
       "0      70.0  1.0              4.0  130.0          NaN           0.0   \n",
       "1       NaN  NaN              NaN  115.0        564.0           NaN   \n",
       "2      57.0  NaN              2.0  124.0          NaN           0.0   \n",
       "3      64.0  NaN              NaN  128.0          NaN           NaN   \n",
       "4      74.0  NaN              2.0  120.0        269.0           0.0   \n",
       "...     ...  ...              ...    ...          ...           ...   \n",
       "265    52.0  NaN              3.0    NaN        199.0           NaN   \n",
       "266     NaN  NaN              NaN    NaN        263.0           NaN   \n",
       "267     NaN  0.0              2.0    NaN        294.0           0.0   \n",
       "268    57.0  1.0              NaN  140.0          NaN           NaN   \n",
       "269    67.0  1.0              NaN    NaN        286.0           0.0   \n",
       "\n",
       "       EKG results  Max HR  Exercise angina  ST depression  Slope of ST  \\\n",
       "index                                                                     \n",
       "0              2.0   109.0              NaN            2.4          2.0   \n",
       "1              NaN   160.0              0.0            NaN          NaN   \n",
       "2              0.0   141.0              0.0            NaN          1.0   \n",
       "3              0.0     NaN              NaN            0.2          2.0   \n",
       "4              2.0     NaN              1.0            0.2          NaN   \n",
       "...            ...     ...              ...            ...          ...   \n",
       "265            0.0     NaN              NaN            0.5          1.0   \n",
       "266            0.0   173.0              NaN            0.0          NaN   \n",
       "267            2.0   153.0              0.0            NaN          2.0   \n",
       "268            0.0   148.0              0.0            NaN          2.0   \n",
       "269            NaN   108.0              NaN            1.5          2.0   \n",
       "\n",
       "       Number of vessels fluro  Thallium  Heart Disease  \n",
       "index                                                    \n",
       "0                          3.0       NaN            1.0  \n",
       "1                          0.0       7.0            NaN  \n",
       "2                          NaN       7.0            NaN  \n",
       "3                          1.0       7.0            0.0  \n",
       "4                          1.0       NaN            0.0  \n",
       "...                        ...       ...            ...  \n",
       "265                        NaN       NaN            0.0  \n",
       "266                        0.0       NaN            NaN  \n",
       "267                        NaN       NaN            0.0  \n",
       "268                        0.0       NaN            0.0  \n",
       "269                        3.0       3.0            1.0  \n",
       "\n",
       "[270 rows x 14 columns]"
      ]
     },
     "execution_count": 21,
     "metadata": {},
     "output_type": "execute_result"
    }
   ],
   "source": [
    "# Проверка\n",
    "make_mcar(phd_data, area='All', miss_percent=40)"
   ]
  },
  {
   "cell_type": "markdown",
   "id": "d88c36c8",
   "metadata": {},
   "source": [
    "## 2.2 MAR <a class=\"anchor\" id=\"section_2_2\"></a>"
   ]
  },
  {
   "cell_type": "code",
   "execution_count": 22,
   "id": "402c5c45",
   "metadata": {},
   "outputs": [],
   "source": [
    "def add_missing(x, area, p_miss):\n",
    "    if pd.isna(x[area]):\n",
    "        return x[area]\n",
    "    else:\n",
    "        return np.random.choice([x[area], np.nan], p=[1-p_miss[x.name], p_miss[x.name]])"
   ]
  },
  {
   "cell_type": "code",
   "execution_count": 23,
   "id": "94ac7863",
   "metadata": {},
   "outputs": [],
   "source": [
    "def make_mar(dataset, area, area_dependent, ascending=False, miss_parameter=5):\n",
    "    '''\n",
    "    dataset - исходный набор данных в виде pandas dataframe\n",
    "    area - аргумент, принимающий наименование одного из столбцов dataset в виде строки, в данном столбце будут созданы пропуски\n",
    "    area_dependent - аргумент, принимающий наименование одного из столбцов dataset в виде строки, от значений в этом столбце будут зависеть вероятности пропусков в столбце area\n",
    "    ascending=False - если False, то чем больше значение элемента, тем больше вероятность пропуска\n",
    "    miss_parameter=5 - параметр, применяемый при составлении вектора индикаторов пропусков\n",
    "    '''\n",
    "    dataset = dataset.copy()\n",
    "    \n",
    "    elements_number = dataset.shape[0]\n",
    "    data_missing_indicator = np.zeros(dataset.shape[0])\n",
    "    \n",
    "    if ascending:\n",
    "        p_miss = dataset[area_dependent].apply(lambda x: (1 - x / dataset[area_dependent].max()) * miss_parameter / 100)\n",
    "    else:\n",
    "        p_miss = dataset[area_dependent].apply(lambda x: x / dataset[area_dependent].max() * miss_parameter / 100)\n",
    "    \n",
    "    dataset[area] = dataset.apply(lambda x: add_missing(x, area, p_miss), axis=1)\n",
    "    \n",
    "    real_miss_percent = len(dataset[dataset[area].isna()]) / elements_number * 100\n",
    "    print( \"'\" + area + \"'\", \"'\" + area_dependent + \"'\", miss_parameter, str(round(real_miss_percent, 3)) + '%', sep='; ', end='.\\n')    \n",
    " \n",
    "    return dataset"
   ]
  },
  {
   "cell_type": "code",
   "execution_count": 24,
   "id": "8e28a865",
   "metadata": {},
   "outputs": [
    {
     "name": "stdout",
     "output_type": "stream",
     "text": [
      "'Cholesterol'; 'Chest pain type'; 75; 57.778%.\n"
     ]
    },
    {
     "data": {
      "text/html": [
       "<div>\n",
       "<style scoped>\n",
       "    .dataframe tbody tr th:only-of-type {\n",
       "        vertical-align: middle;\n",
       "    }\n",
       "\n",
       "    .dataframe tbody tr th {\n",
       "        vertical-align: top;\n",
       "    }\n",
       "\n",
       "    .dataframe thead th {\n",
       "        text-align: right;\n",
       "    }\n",
       "</style>\n",
       "<table border=\"1\" class=\"dataframe\">\n",
       "  <thead>\n",
       "    <tr style=\"text-align: right;\">\n",
       "      <th></th>\n",
       "      <th>Age</th>\n",
       "      <th>Sex</th>\n",
       "      <th>Chest pain type</th>\n",
       "      <th>BP</th>\n",
       "      <th>Cholesterol</th>\n",
       "      <th>FBS over 120</th>\n",
       "      <th>EKG results</th>\n",
       "      <th>Max HR</th>\n",
       "      <th>Exercise angina</th>\n",
       "      <th>ST depression</th>\n",
       "      <th>Slope of ST</th>\n",
       "      <th>Number of vessels fluro</th>\n",
       "      <th>Thallium</th>\n",
       "      <th>Heart Disease</th>\n",
       "    </tr>\n",
       "    <tr>\n",
       "      <th>index</th>\n",
       "      <th></th>\n",
       "      <th></th>\n",
       "      <th></th>\n",
       "      <th></th>\n",
       "      <th></th>\n",
       "      <th></th>\n",
       "      <th></th>\n",
       "      <th></th>\n",
       "      <th></th>\n",
       "      <th></th>\n",
       "      <th></th>\n",
       "      <th></th>\n",
       "      <th></th>\n",
       "      <th></th>\n",
       "    </tr>\n",
       "  </thead>\n",
       "  <tbody>\n",
       "    <tr>\n",
       "      <th>0</th>\n",
       "      <td>70</td>\n",
       "      <td>1</td>\n",
       "      <td>4</td>\n",
       "      <td>130</td>\n",
       "      <td>NaN</td>\n",
       "      <td>0</td>\n",
       "      <td>2</td>\n",
       "      <td>109</td>\n",
       "      <td>0</td>\n",
       "      <td>2.4</td>\n",
       "      <td>2</td>\n",
       "      <td>3</td>\n",
       "      <td>3</td>\n",
       "      <td>1</td>\n",
       "    </tr>\n",
       "    <tr>\n",
       "      <th>1</th>\n",
       "      <td>67</td>\n",
       "      <td>0</td>\n",
       "      <td>3</td>\n",
       "      <td>115</td>\n",
       "      <td>NaN</td>\n",
       "      <td>0</td>\n",
       "      <td>2</td>\n",
       "      <td>160</td>\n",
       "      <td>0</td>\n",
       "      <td>1.6</td>\n",
       "      <td>2</td>\n",
       "      <td>0</td>\n",
       "      <td>7</td>\n",
       "      <td>0</td>\n",
       "    </tr>\n",
       "    <tr>\n",
       "      <th>2</th>\n",
       "      <td>57</td>\n",
       "      <td>1</td>\n",
       "      <td>2</td>\n",
       "      <td>124</td>\n",
       "      <td>261.0</td>\n",
       "      <td>0</td>\n",
       "      <td>0</td>\n",
       "      <td>141</td>\n",
       "      <td>0</td>\n",
       "      <td>0.3</td>\n",
       "      <td>1</td>\n",
       "      <td>0</td>\n",
       "      <td>7</td>\n",
       "      <td>1</td>\n",
       "    </tr>\n",
       "    <tr>\n",
       "      <th>3</th>\n",
       "      <td>64</td>\n",
       "      <td>1</td>\n",
       "      <td>4</td>\n",
       "      <td>128</td>\n",
       "      <td>NaN</td>\n",
       "      <td>0</td>\n",
       "      <td>0</td>\n",
       "      <td>105</td>\n",
       "      <td>1</td>\n",
       "      <td>0.2</td>\n",
       "      <td>2</td>\n",
       "      <td>1</td>\n",
       "      <td>7</td>\n",
       "      <td>0</td>\n",
       "    </tr>\n",
       "    <tr>\n",
       "      <th>4</th>\n",
       "      <td>74</td>\n",
       "      <td>0</td>\n",
       "      <td>2</td>\n",
       "      <td>120</td>\n",
       "      <td>269.0</td>\n",
       "      <td>0</td>\n",
       "      <td>2</td>\n",
       "      <td>121</td>\n",
       "      <td>1</td>\n",
       "      <td>0.2</td>\n",
       "      <td>1</td>\n",
       "      <td>1</td>\n",
       "      <td>3</td>\n",
       "      <td>0</td>\n",
       "    </tr>\n",
       "    <tr>\n",
       "      <th>...</th>\n",
       "      <td>...</td>\n",
       "      <td>...</td>\n",
       "      <td>...</td>\n",
       "      <td>...</td>\n",
       "      <td>...</td>\n",
       "      <td>...</td>\n",
       "      <td>...</td>\n",
       "      <td>...</td>\n",
       "      <td>...</td>\n",
       "      <td>...</td>\n",
       "      <td>...</td>\n",
       "      <td>...</td>\n",
       "      <td>...</td>\n",
       "      <td>...</td>\n",
       "    </tr>\n",
       "    <tr>\n",
       "      <th>265</th>\n",
       "      <td>52</td>\n",
       "      <td>1</td>\n",
       "      <td>3</td>\n",
       "      <td>172</td>\n",
       "      <td>NaN</td>\n",
       "      <td>1</td>\n",
       "      <td>0</td>\n",
       "      <td>162</td>\n",
       "      <td>0</td>\n",
       "      <td>0.5</td>\n",
       "      <td>1</td>\n",
       "      <td>0</td>\n",
       "      <td>7</td>\n",
       "      <td>0</td>\n",
       "    </tr>\n",
       "    <tr>\n",
       "      <th>266</th>\n",
       "      <td>44</td>\n",
       "      <td>1</td>\n",
       "      <td>2</td>\n",
       "      <td>120</td>\n",
       "      <td>263.0</td>\n",
       "      <td>0</td>\n",
       "      <td>0</td>\n",
       "      <td>173</td>\n",
       "      <td>0</td>\n",
       "      <td>0.0</td>\n",
       "      <td>1</td>\n",
       "      <td>0</td>\n",
       "      <td>7</td>\n",
       "      <td>0</td>\n",
       "    </tr>\n",
       "    <tr>\n",
       "      <th>267</th>\n",
       "      <td>56</td>\n",
       "      <td>0</td>\n",
       "      <td>2</td>\n",
       "      <td>140</td>\n",
       "      <td>NaN</td>\n",
       "      <td>0</td>\n",
       "      <td>2</td>\n",
       "      <td>153</td>\n",
       "      <td>0</td>\n",
       "      <td>1.3</td>\n",
       "      <td>2</td>\n",
       "      <td>0</td>\n",
       "      <td>3</td>\n",
       "      <td>0</td>\n",
       "    </tr>\n",
       "    <tr>\n",
       "      <th>268</th>\n",
       "      <td>57</td>\n",
       "      <td>1</td>\n",
       "      <td>4</td>\n",
       "      <td>140</td>\n",
       "      <td>NaN</td>\n",
       "      <td>0</td>\n",
       "      <td>0</td>\n",
       "      <td>148</td>\n",
       "      <td>0</td>\n",
       "      <td>0.4</td>\n",
       "      <td>2</td>\n",
       "      <td>0</td>\n",
       "      <td>6</td>\n",
       "      <td>0</td>\n",
       "    </tr>\n",
       "    <tr>\n",
       "      <th>269</th>\n",
       "      <td>67</td>\n",
       "      <td>1</td>\n",
       "      <td>4</td>\n",
       "      <td>160</td>\n",
       "      <td>NaN</td>\n",
       "      <td>0</td>\n",
       "      <td>2</td>\n",
       "      <td>108</td>\n",
       "      <td>1</td>\n",
       "      <td>1.5</td>\n",
       "      <td>2</td>\n",
       "      <td>3</td>\n",
       "      <td>3</td>\n",
       "      <td>1</td>\n",
       "    </tr>\n",
       "  </tbody>\n",
       "</table>\n",
       "<p>270 rows × 14 columns</p>\n",
       "</div>"
      ],
      "text/plain": [
       "       Age  Sex  Chest pain type   BP  Cholesterol  FBS over 120  EKG results  \\\n",
       "index                                                                           \n",
       "0       70    1                4  130          NaN             0            2   \n",
       "1       67    0                3  115          NaN             0            2   \n",
       "2       57    1                2  124        261.0             0            0   \n",
       "3       64    1                4  128          NaN             0            0   \n",
       "4       74    0                2  120        269.0             0            2   \n",
       "...    ...  ...              ...  ...          ...           ...          ...   \n",
       "265     52    1                3  172          NaN             1            0   \n",
       "266     44    1                2  120        263.0             0            0   \n",
       "267     56    0                2  140          NaN             0            2   \n",
       "268     57    1                4  140          NaN             0            0   \n",
       "269     67    1                4  160          NaN             0            2   \n",
       "\n",
       "       Max HR  Exercise angina  ST depression  Slope of ST  \\\n",
       "index                                                        \n",
       "0         109                0            2.4            2   \n",
       "1         160                0            1.6            2   \n",
       "2         141                0            0.3            1   \n",
       "3         105                1            0.2            2   \n",
       "4         121                1            0.2            1   \n",
       "...       ...              ...            ...          ...   \n",
       "265       162                0            0.5            1   \n",
       "266       173                0            0.0            1   \n",
       "267       153                0            1.3            2   \n",
       "268       148                0            0.4            2   \n",
       "269       108                1            1.5            2   \n",
       "\n",
       "       Number of vessels fluro  Thallium  Heart Disease  \n",
       "index                                                    \n",
       "0                            3         3              1  \n",
       "1                            0         7              0  \n",
       "2                            0         7              1  \n",
       "3                            1         7              0  \n",
       "4                            1         3              0  \n",
       "...                        ...       ...            ...  \n",
       "265                          0         7              0  \n",
       "266                          0         7              0  \n",
       "267                          0         3              0  \n",
       "268                          0         6              0  \n",
       "269                          3         3              1  \n",
       "\n",
       "[270 rows x 14 columns]"
      ]
     },
     "execution_count": 24,
     "metadata": {},
     "output_type": "execute_result"
    }
   ],
   "source": [
    "# Проверка\n",
    "make_mar(phd_data, area='Cholesterol', area_dependent='Chest pain type', ascending=False, miss_parameter=75)"
   ]
  },
  {
   "cell_type": "markdown",
   "id": "51a0db7f",
   "metadata": {},
   "source": [
    "## 2.3 MNAR <a class=\"anchor\" id=\"section_2_3\"></a>"
   ]
  },
  {
   "cell_type": "code",
   "execution_count": 25,
   "id": "49f01eb0",
   "metadata": {},
   "outputs": [],
   "source": [
    "def make_mnar(dataset, area, ascending=False, miss_parameter=5):\n",
    "    '''\n",
    "    dataset - исходный набор данных в виде pandas dataframe\n",
    "    area - аргумент, принимающий наименование одного из столбцов dataset в виде строки\n",
    "    ascending=False - если False, то чем больше значение элемента, тем больше вероятность пропуска\n",
    "    miss_parameter=5 - параметр, применяемый при составлении вектора индикаторов пропусков\n",
    "    '''\n",
    "    dataset = dataset.copy()\n",
    "    \n",
    "    elements_number = dataset.shape[0]\n",
    "    data_missing_indicator = np.zeros(dataset.shape[0])\n",
    "    \n",
    "    if ascending:\n",
    "        p_miss = dataset[area].apply(lambda x: (1 - x / dataset[area].max()) * miss_parameter / 100)\n",
    "    else:\n",
    "        p_miss = dataset[area].apply(lambda x: x / dataset[area].max() * miss_parameter / 100)\n",
    "    \n",
    "    dataset[area] = dataset.apply(lambda x: add_missing(x, area, p_miss), axis=1)\n",
    "    \n",
    "    real_miss_percent = len(dataset[dataset[area].isna()]) / elements_number * 100\n",
    "    print( \"'\" + area + \"'\", miss_parameter, str(round(real_miss_percent, 3)) + '%', sep='; ', end='.\\n')    \n",
    "    return dataset"
   ]
  },
  {
   "cell_type": "code",
   "execution_count": 26,
   "id": "c8ee6847",
   "metadata": {
    "scrolled": false
   },
   "outputs": [
    {
     "name": "stdout",
     "output_type": "stream",
     "text": [
      "'Chest pain type'; 75; 60.37%.\n"
     ]
    },
    {
     "data": {
      "text/html": [
       "<div>\n",
       "<style scoped>\n",
       "    .dataframe tbody tr th:only-of-type {\n",
       "        vertical-align: middle;\n",
       "    }\n",
       "\n",
       "    .dataframe tbody tr th {\n",
       "        vertical-align: top;\n",
       "    }\n",
       "\n",
       "    .dataframe thead th {\n",
       "        text-align: right;\n",
       "    }\n",
       "</style>\n",
       "<table border=\"1\" class=\"dataframe\">\n",
       "  <thead>\n",
       "    <tr style=\"text-align: right;\">\n",
       "      <th></th>\n",
       "      <th>Age</th>\n",
       "      <th>Sex</th>\n",
       "      <th>Chest pain type</th>\n",
       "      <th>BP</th>\n",
       "      <th>Cholesterol</th>\n",
       "      <th>FBS over 120</th>\n",
       "      <th>EKG results</th>\n",
       "      <th>Max HR</th>\n",
       "      <th>Exercise angina</th>\n",
       "      <th>ST depression</th>\n",
       "      <th>Slope of ST</th>\n",
       "      <th>Number of vessels fluro</th>\n",
       "      <th>Thallium</th>\n",
       "      <th>Heart Disease</th>\n",
       "    </tr>\n",
       "    <tr>\n",
       "      <th>index</th>\n",
       "      <th></th>\n",
       "      <th></th>\n",
       "      <th></th>\n",
       "      <th></th>\n",
       "      <th></th>\n",
       "      <th></th>\n",
       "      <th></th>\n",
       "      <th></th>\n",
       "      <th></th>\n",
       "      <th></th>\n",
       "      <th></th>\n",
       "      <th></th>\n",
       "      <th></th>\n",
       "      <th></th>\n",
       "    </tr>\n",
       "  </thead>\n",
       "  <tbody>\n",
       "    <tr>\n",
       "      <th>0</th>\n",
       "      <td>70</td>\n",
       "      <td>1</td>\n",
       "      <td>4.0</td>\n",
       "      <td>130</td>\n",
       "      <td>322</td>\n",
       "      <td>0</td>\n",
       "      <td>2</td>\n",
       "      <td>109</td>\n",
       "      <td>0</td>\n",
       "      <td>2.4</td>\n",
       "      <td>2</td>\n",
       "      <td>3</td>\n",
       "      <td>3</td>\n",
       "      <td>1</td>\n",
       "    </tr>\n",
       "    <tr>\n",
       "      <th>1</th>\n",
       "      <td>67</td>\n",
       "      <td>0</td>\n",
       "      <td>NaN</td>\n",
       "      <td>115</td>\n",
       "      <td>564</td>\n",
       "      <td>0</td>\n",
       "      <td>2</td>\n",
       "      <td>160</td>\n",
       "      <td>0</td>\n",
       "      <td>1.6</td>\n",
       "      <td>2</td>\n",
       "      <td>0</td>\n",
       "      <td>7</td>\n",
       "      <td>0</td>\n",
       "    </tr>\n",
       "    <tr>\n",
       "      <th>2</th>\n",
       "      <td>57</td>\n",
       "      <td>1</td>\n",
       "      <td>NaN</td>\n",
       "      <td>124</td>\n",
       "      <td>261</td>\n",
       "      <td>0</td>\n",
       "      <td>0</td>\n",
       "      <td>141</td>\n",
       "      <td>0</td>\n",
       "      <td>0.3</td>\n",
       "      <td>1</td>\n",
       "      <td>0</td>\n",
       "      <td>7</td>\n",
       "      <td>1</td>\n",
       "    </tr>\n",
       "    <tr>\n",
       "      <th>3</th>\n",
       "      <td>64</td>\n",
       "      <td>1</td>\n",
       "      <td>NaN</td>\n",
       "      <td>128</td>\n",
       "      <td>263</td>\n",
       "      <td>0</td>\n",
       "      <td>0</td>\n",
       "      <td>105</td>\n",
       "      <td>1</td>\n",
       "      <td>0.2</td>\n",
       "      <td>2</td>\n",
       "      <td>1</td>\n",
       "      <td>7</td>\n",
       "      <td>0</td>\n",
       "    </tr>\n",
       "    <tr>\n",
       "      <th>4</th>\n",
       "      <td>74</td>\n",
       "      <td>0</td>\n",
       "      <td>2.0</td>\n",
       "      <td>120</td>\n",
       "      <td>269</td>\n",
       "      <td>0</td>\n",
       "      <td>2</td>\n",
       "      <td>121</td>\n",
       "      <td>1</td>\n",
       "      <td>0.2</td>\n",
       "      <td>1</td>\n",
       "      <td>1</td>\n",
       "      <td>3</td>\n",
       "      <td>0</td>\n",
       "    </tr>\n",
       "    <tr>\n",
       "      <th>...</th>\n",
       "      <td>...</td>\n",
       "      <td>...</td>\n",
       "      <td>...</td>\n",
       "      <td>...</td>\n",
       "      <td>...</td>\n",
       "      <td>...</td>\n",
       "      <td>...</td>\n",
       "      <td>...</td>\n",
       "      <td>...</td>\n",
       "      <td>...</td>\n",
       "      <td>...</td>\n",
       "      <td>...</td>\n",
       "      <td>...</td>\n",
       "      <td>...</td>\n",
       "    </tr>\n",
       "    <tr>\n",
       "      <th>265</th>\n",
       "      <td>52</td>\n",
       "      <td>1</td>\n",
       "      <td>NaN</td>\n",
       "      <td>172</td>\n",
       "      <td>199</td>\n",
       "      <td>1</td>\n",
       "      <td>0</td>\n",
       "      <td>162</td>\n",
       "      <td>0</td>\n",
       "      <td>0.5</td>\n",
       "      <td>1</td>\n",
       "      <td>0</td>\n",
       "      <td>7</td>\n",
       "      <td>0</td>\n",
       "    </tr>\n",
       "    <tr>\n",
       "      <th>266</th>\n",
       "      <td>44</td>\n",
       "      <td>1</td>\n",
       "      <td>2.0</td>\n",
       "      <td>120</td>\n",
       "      <td>263</td>\n",
       "      <td>0</td>\n",
       "      <td>0</td>\n",
       "      <td>173</td>\n",
       "      <td>0</td>\n",
       "      <td>0.0</td>\n",
       "      <td>1</td>\n",
       "      <td>0</td>\n",
       "      <td>7</td>\n",
       "      <td>0</td>\n",
       "    </tr>\n",
       "    <tr>\n",
       "      <th>267</th>\n",
       "      <td>56</td>\n",
       "      <td>0</td>\n",
       "      <td>NaN</td>\n",
       "      <td>140</td>\n",
       "      <td>294</td>\n",
       "      <td>0</td>\n",
       "      <td>2</td>\n",
       "      <td>153</td>\n",
       "      <td>0</td>\n",
       "      <td>1.3</td>\n",
       "      <td>2</td>\n",
       "      <td>0</td>\n",
       "      <td>3</td>\n",
       "      <td>0</td>\n",
       "    </tr>\n",
       "    <tr>\n",
       "      <th>268</th>\n",
       "      <td>57</td>\n",
       "      <td>1</td>\n",
       "      <td>NaN</td>\n",
       "      <td>140</td>\n",
       "      <td>192</td>\n",
       "      <td>0</td>\n",
       "      <td>0</td>\n",
       "      <td>148</td>\n",
       "      <td>0</td>\n",
       "      <td>0.4</td>\n",
       "      <td>2</td>\n",
       "      <td>0</td>\n",
       "      <td>6</td>\n",
       "      <td>0</td>\n",
       "    </tr>\n",
       "    <tr>\n",
       "      <th>269</th>\n",
       "      <td>67</td>\n",
       "      <td>1</td>\n",
       "      <td>NaN</td>\n",
       "      <td>160</td>\n",
       "      <td>286</td>\n",
       "      <td>0</td>\n",
       "      <td>2</td>\n",
       "      <td>108</td>\n",
       "      <td>1</td>\n",
       "      <td>1.5</td>\n",
       "      <td>2</td>\n",
       "      <td>3</td>\n",
       "      <td>3</td>\n",
       "      <td>1</td>\n",
       "    </tr>\n",
       "  </tbody>\n",
       "</table>\n",
       "<p>270 rows × 14 columns</p>\n",
       "</div>"
      ],
      "text/plain": [
       "       Age  Sex  Chest pain type   BP  Cholesterol  FBS over 120  EKG results  \\\n",
       "index                                                                           \n",
       "0       70    1              4.0  130          322             0            2   \n",
       "1       67    0              NaN  115          564             0            2   \n",
       "2       57    1              NaN  124          261             0            0   \n",
       "3       64    1              NaN  128          263             0            0   \n",
       "4       74    0              2.0  120          269             0            2   \n",
       "...    ...  ...              ...  ...          ...           ...          ...   \n",
       "265     52    1              NaN  172          199             1            0   \n",
       "266     44    1              2.0  120          263             0            0   \n",
       "267     56    0              NaN  140          294             0            2   \n",
       "268     57    1              NaN  140          192             0            0   \n",
       "269     67    1              NaN  160          286             0            2   \n",
       "\n",
       "       Max HR  Exercise angina  ST depression  Slope of ST  \\\n",
       "index                                                        \n",
       "0         109                0            2.4            2   \n",
       "1         160                0            1.6            2   \n",
       "2         141                0            0.3            1   \n",
       "3         105                1            0.2            2   \n",
       "4         121                1            0.2            1   \n",
       "...       ...              ...            ...          ...   \n",
       "265       162                0            0.5            1   \n",
       "266       173                0            0.0            1   \n",
       "267       153                0            1.3            2   \n",
       "268       148                0            0.4            2   \n",
       "269       108                1            1.5            2   \n",
       "\n",
       "       Number of vessels fluro  Thallium  Heart Disease  \n",
       "index                                                    \n",
       "0                            3         3              1  \n",
       "1                            0         7              0  \n",
       "2                            0         7              1  \n",
       "3                            1         7              0  \n",
       "4                            1         3              0  \n",
       "...                        ...       ...            ...  \n",
       "265                          0         7              0  \n",
       "266                          0         7              0  \n",
       "267                          0         3              0  \n",
       "268                          0         6              0  \n",
       "269                          3         3              1  \n",
       "\n",
       "[270 rows x 14 columns]"
      ]
     },
     "execution_count": 26,
     "metadata": {},
     "output_type": "execute_result"
    }
   ],
   "source": [
    "# Проверка\n",
    "make_mnar(phd_data, area='Chest pain type', ascending=False, miss_parameter=75)"
   ]
  },
  {
   "cell_type": "markdown",
   "id": "864fcbe6",
   "metadata": {},
   "source": [
    "# 3 Определение функций для импутации <a class=\"anchor\" id=\"chapter3\"></a>"
   ]
  },
  {
   "cell_type": "code",
   "execution_count": 27,
   "id": "94bc9ed2",
   "metadata": {},
   "outputs": [],
   "source": [
    "from sklearn.model_selection import train_test_split\n",
    "from sklearn.preprocessing import StandardScaler"
   ]
  },
  {
   "cell_type": "markdown",
   "id": "de544c70",
   "metadata": {},
   "source": [
    "## 3.1 Создание 2 тестовых датасетов (потом уберу) <a class=\"anchor\" id=\"section_3_1\"></a>"
   ]
  },
  {
   "cell_type": "code",
   "execution_count": 28,
   "id": "ffadf707",
   "metadata": {},
   "outputs": [
    {
     "name": "stdout",
     "output_type": "stream",
     "text": [
      "'Max HR'; 'Age'; 20; 15.556%.\n",
      "num_true.shape: (42, 1)\n",
      "\n",
      "'Heart Disease'; 'Max HR'; 20; 12.963%.\n",
      "cat_true.shape: (35, 1)\n"
     ]
    }
   ],
   "source": [
    "phd_mar_num20_test = make_mar(phd_data, area='Max HR', area_dependent='Age', miss_parameter=20)\n",
    "# вектор истинных значений\n",
    "num_test_mask_null = phd_mar_num20_test['Max HR'].isnull()\n",
    "num_true = np.array(phd_data.loc[num_test_mask_null == True, 'Max HR']).reshape(-1, 1) # берем только те строки, в которых в column пропуск\n",
    "print('num_true.shape:', num_true.shape, end='\\n\\n')\n",
    "\n",
    "\n",
    "phd_mar_cat20_test = make_mar(phd_data, area='Heart Disease', area_dependent='Max HR', miss_parameter=20)\n",
    "# вектор истинных значений\n",
    "cat_test_mask_null = phd_mar_cat20_test['Heart Disease'].isnull()\n",
    "cat_true = np.array(phd_data.loc[cat_test_mask_null == True, 'Heart Disease']).reshape(-1, 1) # берем только те строки, в которых в column пропуск\n",
    "print('cat_true.shape:', cat_true.shape)"
   ]
  },
  {
   "cell_type": "markdown",
   "id": "3cc13cda",
   "metadata": {},
   "source": [
    "## 3.2 Импутация средним <a class=\"anchor\" id=\"section_3_2\"></a>"
   ]
  },
  {
   "cell_type": "code",
   "execution_count": 29,
   "id": "c3882b29",
   "metadata": {},
   "outputs": [],
   "source": [
    "def impute_average(dataset, column, mode='median', standard_deviation=False):\n",
    "    '''\n",
    "    dataset - исходный набор данных в виде pandas dataframe\n",
    "    column - столбец, подлежащий восстановлению\n",
    "    mode='median' - значение, которым восстанавливается столбец, также есть варианты mean, mode\n",
    "    standard_deviation=False - добавление случайных чисел в пределах стандартного отклонения в массив импутируемых значений\n",
    "    '''\n",
    "    dataset = dataset.copy()\n",
    "    dataset_col = dataset.loc[:, column]\n",
    "    if mode == 'median':\n",
    "        imputed_value = dataset_col.median()\n",
    "    elif mode == 'mean':\n",
    "        imputed_value = round(dataset_col.mean(), 1)\n",
    "    elif mode == 'mode':\n",
    "        imputed_value = dataset_col.mode().iloc[0]\n",
    "    print('Значение для импутации:', imputed_value)\n",
    "    \n",
    "    if not standard_deviation:\n",
    "        dataset[column] = dataset[column].fillna(value=imputed_value)\n",
    "    else:\n",
    "        std = dataset[column].std()\n",
    "        # rand(-std, std)\n",
    "    return dataset"
   ]
  },
  {
   "cell_type": "code",
   "execution_count": 30,
   "id": "92f00f5d",
   "metadata": {},
   "outputs": [
    {
     "data": {
      "text/plain": [
       "count    228.000000\n",
       "mean     149.745614\n",
       "std       23.435472\n",
       "min       71.000000\n",
       "25%      133.000000\n",
       "50%      154.000000\n",
       "75%      168.000000\n",
       "max      202.000000\n",
       "Name: Max HR, dtype: float64"
      ]
     },
     "execution_count": 30,
     "metadata": {},
     "output_type": "execute_result"
    }
   ],
   "source": [
    "phd_mar_num20_test.loc[:, 'Max HR'].describe()"
   ]
  },
  {
   "cell_type": "code",
   "execution_count": 31,
   "id": "e34af736",
   "metadata": {
    "scrolled": true
   },
   "outputs": [
    {
     "name": "stdout",
     "output_type": "stream",
     "text": [
      "Значение для импутации: 154.0\n"
     ]
    }
   ],
   "source": [
    "# Восстанавливаем численную переменную медианой\n",
    "phd_mar_num20_test_imputed = impute_average(phd_mar_num20_test, 'Max HR', mode='median')"
   ]
  },
  {
   "cell_type": "code",
   "execution_count": 32,
   "id": "01973db4",
   "metadata": {},
   "outputs": [
    {
     "data": {
      "text/plain": [
       "(42, 1)"
      ]
     },
     "execution_count": 32,
     "metadata": {},
     "output_type": "execute_result"
    }
   ],
   "source": [
    "# предикт медианой\n",
    "test_median = phd_mar_num20_test.loc[:, 'Max HR'].median()\n",
    "median_pred = np.array([test_median for i in range(phd_mar_num20_test['Max HR'].isna().sum())]).reshape(-1, 1) \n",
    "median_pred.shape"
   ]
  },
  {
   "cell_type": "code",
   "execution_count": 33,
   "id": "d80cadc8",
   "metadata": {},
   "outputs": [
    {
     "name": "stdout",
     "output_type": "stream",
     "text": [
      "Значение для импутации: 0.0\n"
     ]
    }
   ],
   "source": [
    "# Восстанавливаем категориальную переменную модой\n",
    "phd_mar_cat20_test_imputed = impute_average(phd_mar_cat20_test, 'Heart Disease', mode='mode')"
   ]
  },
  {
   "cell_type": "code",
   "execution_count": 34,
   "id": "fd292a7d",
   "metadata": {},
   "outputs": [
    {
     "data": {
      "text/plain": [
       "(35, 1)"
      ]
     },
     "execution_count": 34,
     "metadata": {},
     "output_type": "execute_result"
    }
   ],
   "source": [
    "# предикт модой\n",
    "test_mode = phd_mar_cat20_test.loc[:, 'Heart Disease'].median()\n",
    "mode_pred = np.array([test_mode for i in range(phd_mar_cat20_test['Heart Disease'].isna().sum())]).reshape(-1, 1) \n",
    "mode_pred.shape"
   ]
  },
  {
   "cell_type": "code",
   "execution_count": 35,
   "id": "8fda989a",
   "metadata": {},
   "outputs": [
    {
     "data": {
      "text/plain": [
       "<AxesSubplot:xlabel='Max HR', ylabel='count'>"
      ]
     },
     "execution_count": 35,
     "metadata": {},
     "output_type": "execute_result"
    },
    {
     "data": {
      "image/png": "[encoded data removed]",
      "text/plain": [
       "<Figure size 1152x720 with 1 Axes>"
      ]
     },
     "metadata": {
      "needs_background": "light"
     },
     "output_type": "display_data"
    }
   ],
   "source": [
    "# поворачиваем лейблы оси x на 90 градусов\n",
    "plt.figure(figsize=(16, 10))\n",
    "plt.xticks(rotation=90)\n",
    "sns.countplot(data=phd_mar_num20_test_imputed, x='Max HR')"
   ]
  },
  {
   "cell_type": "markdown",
   "id": "a6859e35",
   "metadata": {},
   "source": [
    "## 3.3 Линейная регрессия <a class=\"anchor\" id=\"section_3_3\"></a>"
   ]
  },
  {
   "cell_type": "code",
   "execution_count": 36,
   "id": "e906e4e5",
   "metadata": {},
   "outputs": [],
   "source": [
    "from sklearn.linear_model import LinearRegression\n",
    "from sklearn.metrics import mean_squared_error"
   ]
  },
  {
   "cell_type": "markdown",
   "id": "3184c1bc",
   "metadata": {},
   "source": [
    "Для обучения и тестирования модели лин. регрессии берем исключительно строки без пропуска в целевой переменной.  \n",
    "Несмотря на то, что исходный датасет не содержит пропусков, и нам известны все значения переменных, в \"боевых\" условиях у исследователя такой привелегии нет. "
   ]
  },
  {
   "cell_type": "code",
   "execution_count": 37,
   "id": "8a0062f1",
   "metadata": {},
   "outputs": [],
   "source": [
    "def impute_linreg(dataset, column, excluded_columns=[]):\n",
    "    '''\n",
    "    dataset - исходный набор данных в виде pandas dataframe\n",
    "    column - столбец, подлежащий восстановлению\n",
    "    excluded_columns=[] - список колонок, не используемых в обучении\n",
    "    '''\n",
    "    dataset = dataset.copy()\n",
    "    mask_notnull = dataset[column].notnull()\n",
    "    full_data = dataset.loc[mask_notnull == True, :] # берем только те строки, в которых в column нет пропуска\n",
    "    y = np.array(full_data.loc[:, column]).reshape(-1, 1)\n",
    "    \n",
    "    excluded_columns.append(column)\n",
    "    x = np.array(full_data.loc[:, ~full_data.columns.isin(excluded_columns)])\n",
    "    \n",
    "    missing_data = dataset.loc[mask_notnull == False, :]\n",
    "    x_pred = np.array(missing_data.loc[:, ~full_data.columns.isin(excluded_columns)])\n",
    "    \n",
    "    scaler = StandardScaler()\n",
    "    \n",
    "    x = scaler.fit_transform(x)\n",
    "    x_pred = scaler.fit_transform(x_pred)\n",
    "    \n",
    "    x_train, x_test, y_train, y_test = train_test_split(x, y, test_size=0.25)\n",
    "        \n",
    "    reg = LinearRegression()\n",
    "    reg.fit(x_train, y_train)\n",
    "    print('Показатели модели:', reg.coef_, reg.intercept_, sep='\\n', end='\\n\\n')\n",
    "    print(reg.score(x_train, y_train), reg.score(x_test, y_test), sep='\\n')\n",
    "    return reg.predict(x_pred)"
   ]
  },
  {
   "cell_type": "code",
   "execution_count": 38,
   "id": "a38b566c",
   "metadata": {},
   "outputs": [
    {
     "name": "stdout",
     "output_type": "stream",
     "text": [
      "Показатели модели:\n",
      "[[-6.3464381   0.35660636 -2.70177323  2.76363139  1.76971772 -0.39254735\n",
      "   2.45543023 -4.72325816 -1.08696936 -5.99571346 -0.52723421  1.38360704\n",
      "  -3.72115141]]\n",
      "[149.77457034]\n",
      "\n",
      "0.3971369917930776\n",
      "0.43083395862239926\n"
     ]
    },
    {
     "data": {
      "text/plain": [
       "(42, 1)"
      ]
     },
     "execution_count": 38,
     "metadata": {},
     "output_type": "execute_result"
    }
   ],
   "source": [
    "# предикт регрессией\n",
    "reg_pred = impute_linreg(phd_mar_num20_test, 'Max HR')\n",
    "reg_pred.shape"
   ]
  },
  {
   "cell_type": "markdown",
   "id": "a69c007a",
   "metadata": {},
   "source": [
    "## 3.4 k-ближайших соседей (kNN) <a class=\"anchor\" id=\"section_3_4\"></a>"
   ]
  },
  {
   "cell_type": "code",
   "execution_count": 39,
   "id": "b67b0cac",
   "metadata": {},
   "outputs": [],
   "source": [
    "from sklearn.neighbors import KNeighborsClassifier\n",
    "from sklearn.metrics import f1_score"
   ]
  },
  {
   "cell_type": "code",
   "execution_count": 40,
   "id": "a9b11f86",
   "metadata": {},
   "outputs": [],
   "source": [
    "def impute_knn(dataset, column, excluded_columns=[]):\n",
    "    '''\n",
    "    dataset - исходный набор данных в виде pandas dataframe\n",
    "    column - столбец, подлежащий восстановлению\n",
    "    excluded_columns=[] - список колонок, не используемых в обучении\n",
    "    '''\n",
    "    dataset = dataset.copy() # копируем датасет чтобы не вносить изменения по ссылке\n",
    "    mask_notnull = dataset[column].notnull() # создаем маску, с True на тех позициях, где в dataset[column] нет пропуска\n",
    "    full_data = dataset.loc[mask_notnull == True, :] # применяем маску чтобы получить срез датасета для обучения и теста\n",
    "    y = np.array(full_data.loc[:, column]).reshape(-1, 1) # берем таргеты из датасета для обучения\n",
    "    \n",
    "    excluded_columns.append(column) # добавляем колонку таргетов в список исключенных колонок\n",
    "    x = np.array(full_data.loc[:, ~full_data.columns.isin(excluded_columns)]) # составляем массив данных для обучения\n",
    "    \n",
    "    missing_data = dataset.loc[mask_notnull == False, :] # срез датасета для восстановления пропусков в dataset\n",
    "    x_pred = np.array(missing_data.loc[:, ~full_data.columns.isin(excluded_columns)]) # массив признаков для подстановки в обученную модель\n",
    "    \n",
    "    # Нормализация X\n",
    "    scaler = StandardScaler()\n",
    "    x = scaler.fit_transform(x)\n",
    "    x_pred = scaler.fit_transform(x_pred)\n",
    "    \n",
    "    # Деление выборки на обучающую и тестовую\n",
    "    x_train, x_test, y_train, y_test = train_test_split(x, y, test_size=0.25)\n",
    "    \n",
    "    knn_model = KNeighborsClassifier(n_neighbors=5, weights='uniform', algorithm='auto',\n",
    "                                 leaf_size=30, p=2, metric='minkowski', n_jobs=-1)\n",
    "    \n",
    "    # \"Обучение\" модели\n",
    "    knn_model.fit(x_train, y_train.ravel())\n",
    "    \n",
    "    print(knn_model.score(x_train, y_train), knn_model.score(x_test, y_test), sep='\\n')\n",
    "    \n",
    "    return knn_model.predict(x_pred)"
   ]
  },
  {
   "cell_type": "code",
   "execution_count": 41,
   "id": "38ae7088",
   "metadata": {},
   "outputs": [
    {
     "name": "stdout",
     "output_type": "stream",
     "text": [
      "0.8693181818181818\n",
      "0.8813559322033898\n"
     ]
    },
    {
     "data": {
      "text/plain": [
       "(35,)"
      ]
     },
     "execution_count": 41,
     "metadata": {},
     "output_type": "execute_result"
    }
   ],
   "source": [
    "knn_pred = impute_knn(phd_mar_cat20_test, 'Heart Disease')\n",
    "knn_pred.shape"
   ]
  },
  {
   "cell_type": "markdown",
   "id": "4ef3adf1",
   "metadata": {},
   "source": [
    "## 3.5 Решающие деревья для классификации <a class=\"anchor\" id=\"section_3_5\"></a>"
   ]
  },
  {
   "cell_type": "code",
   "execution_count": 42,
   "id": "a7f333f6",
   "metadata": {},
   "outputs": [],
   "source": [
    "from catboost import CatBoostClassifier, Pool\n",
    "from sklearn.metrics import classification_report"
   ]
  },
  {
   "cell_type": "code",
   "execution_count": 43,
   "id": "58ea723e",
   "metadata": {},
   "outputs": [],
   "source": [
    "def impute_catboost_cat(dataset, column, excluded_columns=[], catboost_params={}, verbose=100):\n",
    "    '''\n",
    "    dataset - исходный набор данных в виде pandas dataframe\n",
    "    column - столбец, подлежащий восстановлению\n",
    "    excluded_columns=[] - список колонок, не используемых в обучении\n",
    "    catboost_params={} - список параметров catboost\n",
    "    verbose=100 \n",
    "    '''\n",
    "    \n",
    "    dataset = dataset.copy()\n",
    "    mask_notnull = dataset[column].notnull()\n",
    "    full_data = dataset.loc[mask_notnull == True, :] # берем только те строки, в которых в column нет пропуска\n",
    "    y = np.array(full_data.loc[:, column]).reshape(-1, 1)\n",
    "    \n",
    "    excluded_columns.append(column)\n",
    "    x = np.array(full_data.loc[:, ~full_data.columns.isin(excluded_columns)])\n",
    "    \n",
    "    missing_data = dataset.loc[mask_notnull == False, :]\n",
    "    x_pred = np.array(missing_data.loc[:, ~full_data.columns.isin(excluded_columns)])\n",
    "    \n",
    "    scaler = StandardScaler()\n",
    "    \n",
    "    x = scaler.fit_transform(x)\n",
    "    x_pred = scaler.fit_transform(x_pred)\n",
    "    \n",
    "    x_train, x_test, y_train, y_test = train_test_split(x, y, test_size=0.25)\n",
    "    \n",
    "    learn_pool = Pool(\n",
    "        x_train, \n",
    "        y_train\n",
    "    )\n",
    "    test_pool = Pool(\n",
    "        x_test, \n",
    "        y_test\n",
    "    )\n",
    " \n",
    "    catboost_default_params = {\n",
    "        'iterations': 1000,\n",
    "        'learning_rate': 0.01,\n",
    "        'eval_metric': 'TotalF1',\n",
    "        'leaf_estimation_method': 'Gradient',\n",
    "        'bootstrap_type': 'Bernoulli',\n",
    "        'objective': 'CrossEntropy',\n",
    "    }\n",
    " \n",
    "    catboost_default_params.update(catboost_params)\n",
    " \n",
    "    catboost = CatBoostClassifier(**catboost_default_params)\n",
    "    catboost.fit(learn_pool, eval_set=test_pool, verbose=verbose)\n",
    " \n",
    "    return catboost.predict(x_pred)"
   ]
  },
  {
   "cell_type": "code",
   "execution_count": 44,
   "id": "85b2456d",
   "metadata": {},
   "outputs": [
    {
     "name": "stdout",
     "output_type": "stream",
     "text": [
      "0:\tlearn: 0.7469476\ttest: 0.7667882\tbest: 0.7667882 (0)\ttotal: 140ms\tremaining: 2m 19s\n",
      "100:\tlearn: 0.9430634\ttest: 0.8817068\tbest: 0.9149495 (17)\ttotal: 560ms\tremaining: 4.99s\n",
      "200:\tlearn: 0.9715789\ttest: 0.8817068\tbest: 0.9149495 (17)\ttotal: 920ms\tremaining: 3.66s\n",
      "300:\tlearn: 1.0000000\ttest: 0.8817068\tbest: 0.9149495 (17)\ttotal: 1.29s\tremaining: 2.99s\n",
      "400:\tlearn: 1.0000000\ttest: 0.8651246\tbest: 0.9149495 (17)\ttotal: 1.64s\tremaining: 2.45s\n",
      "500:\tlearn: 1.0000000\ttest: 0.8318913\tbest: 0.9149495 (17)\ttotal: 2.01s\tremaining: 2.01s\n",
      "600:\tlearn: 1.0000000\ttest: 0.8151829\tbest: 0.9149495 (17)\ttotal: 2.39s\tremaining: 1.59s\n",
      "700:\tlearn: 1.0000000\ttest: 0.8151829\tbest: 0.9149495 (17)\ttotal: 2.76s\tremaining: 1.18s\n",
      "800:\tlearn: 1.0000000\ttest: 0.8151829\tbest: 0.9149495 (17)\ttotal: 3.15s\tremaining: 782ms\n",
      "900:\tlearn: 1.0000000\ttest: 0.7982695\tbest: 0.9149495 (17)\ttotal: 3.5s\tremaining: 385ms\n",
      "999:\tlearn: 1.0000000\ttest: 0.7982695\tbest: 0.9149495 (17)\ttotal: 3.87s\tremaining: 0us\n",
      "\n",
      "bestTest = 0.9149494878\n",
      "bestIteration = 17\n",
      "\n",
      "Shrink model to first 18 iterations.\n"
     ]
    },
    {
     "data": {
      "text/plain": [
       "(35,)"
      ]
     },
     "execution_count": 44,
     "metadata": {},
     "output_type": "execute_result"
    }
   ],
   "source": [
    "catboost_cat_pred = impute_catboost_cat(phd_mar_cat20_test, 'Heart Disease')\n",
    "catboost_cat_pred.shape"
   ]
  },
  {
   "cell_type": "markdown",
   "id": "aecce6bf",
   "metadata": {},
   "source": [
    "## 3.6 Решающие деревья для регрессии <a class=\"anchor\" id=\"section_3_6\"></a>"
   ]
  },
  {
   "cell_type": "code",
   "execution_count": 45,
   "id": "79062350",
   "metadata": {},
   "outputs": [],
   "source": [
    "from catboost import CatBoostRegressor"
   ]
  },
  {
   "cell_type": "code",
   "execution_count": 46,
   "id": "48170576",
   "metadata": {},
   "outputs": [],
   "source": [
    "def impute_catboost_num(dataset, column, excluded_columns=[], catboost_params={}, verbose=100):\n",
    "    '''\n",
    "    dataset - исходный набор данных в виде pandas dataframe\n",
    "    column - столбец, подлежащий восстановлению\n",
    "    excluded_columns=[] - список колонок, не используемых в обучении\n",
    "    catboost_params={} - список параметров catboost\n",
    "    verbose=100 \n",
    "    '''\n",
    "    \n",
    "    dataset = dataset.copy()\n",
    "    mask_notnull = dataset[column].notnull()\n",
    "    full_data = dataset.loc[mask_notnull == True, :] # берем только те строки, в которых в column нет пропуска\n",
    "    y = np.array(full_data.loc[:, column]).reshape(-1, 1)\n",
    "    \n",
    "    excluded_columns.append(column)\n",
    "    x = np.array(full_data.loc[:, ~full_data.columns.isin(excluded_columns)])\n",
    "    \n",
    "    missing_data = dataset.loc[mask_notnull == False, :]\n",
    "    x_pred = np.array(missing_data.loc[:, ~full_data.columns.isin(excluded_columns)])\n",
    "    \n",
    "    scaler = StandardScaler()\n",
    "    \n",
    "    x = scaler.fit_transform(x)\n",
    "    x_pred = scaler.fit_transform(x_pred)\n",
    "    \n",
    "    x_train, x_test, y_train, y_test = train_test_split(x, y, test_size=0.25)\n",
    "    \n",
    "    learn_pool = Pool(\n",
    "        x_train, \n",
    "        y_train\n",
    "    )\n",
    "    test_pool = Pool(\n",
    "        x_test, \n",
    "        y_test\n",
    "    )\n",
    " \n",
    "    catboost_default_params = {\n",
    "        'iterations': 1000,\n",
    "        'learning_rate': 0.01,\n",
    "        'depth': 2,\n",
    "        'leaf_estimation_method': 'Gradient',\n",
    "        'bootstrap_type': 'Bernoulli',\n",
    "        'objective': 'RMSE',\n",
    "    }\n",
    " \n",
    "    catboost_default_params.update(catboost_params)\n",
    " \n",
    "    catboost = CatBoostRegressor(**catboost_default_params)\n",
    "    catboost.fit(learn_pool, eval_set=test_pool, verbose=verbose)\n",
    " \n",
    "    return catboost.predict(x_pred)"
   ]
  },
  {
   "cell_type": "code",
   "execution_count": 47,
   "id": "1f8e9ee7",
   "metadata": {},
   "outputs": [
    {
     "name": "stdout",
     "output_type": "stream",
     "text": [
      "0:\tlearn: 22.1003894\ttest: 26.7101209\tbest: 26.7101209 (0)\ttotal: 659us\tremaining: 659ms\n",
      "100:\tlearn: 18.6689134\ttest: 23.7665758\tbest: 23.7665758 (100)\ttotal: 41ms\tremaining: 365ms\n",
      "200:\tlearn: 17.3634575\ttest: 22.7102515\tbest: 22.7102515 (200)\ttotal: 81.2ms\tremaining: 323ms\n",
      "300:\tlearn: 16.6966477\ttest: 22.1448030\tbest: 22.1448030 (300)\ttotal: 116ms\tremaining: 270ms\n",
      "400:\tlearn: 16.2529821\ttest: 21.8246481\tbest: 21.8246481 (400)\ttotal: 149ms\tremaining: 223ms\n",
      "500:\tlearn: 15.9144546\ttest: 21.5594319\tbest: 21.5594319 (500)\ttotal: 184ms\tremaining: 184ms\n",
      "600:\tlearn: 15.5852221\ttest: 21.3084577\tbest: 21.3065843 (598)\ttotal: 225ms\tremaining: 150ms\n",
      "700:\tlearn: 15.2703514\ttest: 21.1247934\tbest: 21.1247934 (700)\ttotal: 262ms\tremaining: 112ms\n",
      "800:\tlearn: 14.9446522\ttest: 21.0043343\tbest: 21.0043343 (800)\ttotal: 297ms\tremaining: 73.7ms\n",
      "900:\tlearn: 14.6659436\ttest: 20.8922213\tbest: 20.8833620 (894)\ttotal: 329ms\tremaining: 36.1ms\n",
      "999:\tlearn: 14.4144152\ttest: 20.8216798\tbest: 20.8216798 (999)\ttotal: 363ms\tremaining: 0us\n",
      "\n",
      "bestTest = 20.82167984\n",
      "bestIteration = 999\n",
      "\n"
     ]
    },
    {
     "data": {
      "text/plain": [
       "(42,)"
      ]
     },
     "execution_count": 47,
     "metadata": {},
     "output_type": "execute_result"
    }
   ],
   "source": [
    "catboost_num_pred = impute_catboost_num(phd_mar_num20_test, 'Max HR')\n",
    "catboost_num_pred.shape"
   ]
  },
  {
   "cell_type": "markdown",
   "id": "92262c7f",
   "metadata": {},
   "source": [
    "[6 Сравнение результатов](#chapter6)  "
   ]
  },
  {
   "cell_type": "markdown",
   "id": "9c1aa26c",
   "metadata": {},
   "source": [
    "# 4 Создание набора датасетов <a class=\"anchor\" id=\"chapter4\"></a>"
   ]
  },
  {
   "cell_type": "markdown",
   "id": "e75fddf7",
   "metadata": {},
   "source": [
    "Схема, описывающая датасеты, которые предполагается создать (исходных датасетов - 2):  \n",
    "![Схема, описывающая датасеты, которые предполагается создать](../Images/datasets_scheme.png)"
   ]
  },
  {
   "cell_type": "markdown",
   "id": "a54be99b",
   "metadata": {},
   "source": [
    "## 4.1 Датасет *Predicting Heart Disease Risk Using Clinical Variables* <a class=\"anchor\" id=\"section_4_1\"></a>"
   ]
  },
  {
   "cell_type": "code",
   "execution_count": 48,
   "id": "5ed7a569",
   "metadata": {},
   "outputs": [
    {
     "name": "stdout",
     "output_type": "stream",
     "text": [
      "phd_data, MCAR:\n",
      "Area, miss_percent, real_miss_percent\n",
      "\n",
      "'All'; 5%; 5.0%.\n",
      "'All'; 20%; 20.0%.\n",
      "'All'; 60%; 60.0%.\n",
      "\n",
      "Categorical\n",
      "'Heart Disease'; 5%; 5.185%.\n",
      "'Heart Disease'; 20%; 20.0%.\n",
      "'Heart Disease'; 60%; 60.0%.\n",
      "\n",
      "Numeric\n",
      "'Max HR'; 5%; 5.185%.\n",
      "'Max HR'; 20%; 20.0%.\n",
      "'Max HR'; 60%; 60.0%.\n",
      "------------------------------\n",
      "phd_data, MAR:\n",
      "Area, area_dependent, miss_parameter, real_miss_percent\n",
      "\n",
      "Categorical\n",
      "'Heart Disease'; 'Max HR'; 5; 2.963%.\n",
      "'Heart Disease'; 'Max HR'; 20; 13.704%.\n",
      "'Heart Disease'; 'Max HR'; 60; 42.222%.\n",
      "\n",
      "Numeric\n",
      "'Max HR'; 'Age'; 5; 1.852%.\n",
      "'Max HR'; 'Age'; 20; 18.148%.\n",
      "'Max HR'; 'Age'; 60; 43.333%.\n",
      "------------------------------\n",
      "phd_data, MNAR:\n",
      "Area, miss_parameter, real_miss_percent\n",
      "\n",
      "Categorical\n",
      "'Heart Disease'; 5; 2.222%.\n",
      "'Heart Disease'; 20; 8.148%.\n",
      "'Heart Disease'; 60; 28.889%.\n",
      "\n",
      "Numeric\n",
      "'Max HR'; 5; 4.074%.\n",
      "'Max HR'; 20; 16.296%.\n",
      "'Max HR'; 60; 42.593%.\n",
      "------------------------------\n"
     ]
    }
   ],
   "source": [
    "print('phd_data, MCAR:\\nArea, miss_percent, real_miss_percent\\n')\n",
    "phd_mcar_all5 = make_mcar(phd_data, area='All', miss_percent=5)\n",
    "phd_mcar_all20 = make_mcar(phd_data, area='All', miss_percent=20)\n",
    "phd_mcar_all60 = make_mcar(phd_data, area='All', miss_percent=60)\n",
    "print('\\nCategorical')\n",
    "phd_mcar_cat5 = make_mcar(phd_data, area='Heart Disease', miss_percent=5)\n",
    "phd_mcar_cat20 = make_mcar(phd_data, area='Heart Disease', miss_percent=20)\n",
    "phd_mcar_cat60 = make_mcar(phd_data, area='Heart Disease', miss_percent=60)\n",
    "print('\\nNumeric')\n",
    "phd_mcar_num5 = make_mcar(phd_data, area='Max HR', miss_percent=5)\n",
    "phd_mcar_num20 = make_mcar(phd_data, area='Max HR', miss_percent=20)\n",
    "phd_mcar_num60 = make_mcar(phd_data, area='Max HR', miss_percent=60)\n",
    "print('-' * 30)\n",
    "\n",
    "print('phd_data, MAR:\\nArea, area_dependent, miss_parameter, real_miss_percent\\n\\nCategorical')\n",
    "phd_mar_cat5 = make_mar(phd_data, area='Heart Disease', area_dependent='Max HR', miss_parameter=5)\n",
    "phd_mar_cat20 = make_mar(phd_data, area='Heart Disease', area_dependent='Max HR', miss_parameter=20)\n",
    "phd_mar_cat60 = make_mar(phd_data, area='Heart Disease', area_dependent='Max HR', miss_parameter=60)\n",
    "print('\\nNumeric')\n",
    "phd_mar_num5 = make_mar(phd_data, area='Max HR', area_dependent='Age', miss_parameter=5)\n",
    "phd_mar_num20 = make_mar(phd_data, area='Max HR', area_dependent='Age', miss_parameter=20)\n",
    "phd_mar_num60 = make_mar(phd_data, area='Max HR', area_dependent='Age', miss_parameter=60)\n",
    "print('-' * 30)\n",
    "\n",
    "print('phd_data, MNAR:\\nArea, miss_parameter, real_miss_percent\\n\\nCategorical')\n",
    "phd_mnar_cat5 = make_mnar(phd_data, area='Heart Disease', miss_parameter=5)\n",
    "phd_mnar_cat20 = make_mnar(phd_data, area='Heart Disease', miss_parameter=20)\n",
    "phd_mnar_cat60 = make_mnar(phd_data, area='Heart Disease', miss_parameter=60)\n",
    "print('\\nNumeric')\n",
    "phd_mnar_num5 = make_mnar(phd_data, area='Max HR', miss_parameter=5)\n",
    "phd_mnar_num20 = make_mnar(phd_data, area='Max HR', miss_parameter=20)\n",
    "phd_mnar_num60 = make_mnar(phd_data, area='Max HR', miss_parameter=60)\n",
    "print('-' * 30)"
   ]
  },
  {
   "cell_type": "markdown",
   "id": "dfb74a54",
   "metadata": {},
   "source": [
    "## 4.2 Датасет *Cleveland Clinic Heart Disease Dataset* <a class=\"anchor\" id=\"section_4_2\"></a>"
   ]
  },
  {
   "cell_type": "code",
   "execution_count": 49,
   "id": "c19b8e81",
   "metadata": {},
   "outputs": [
    {
     "name": "stdout",
     "output_type": "stream",
     "text": [
      "cchd_data, MCAR:\n",
      "Area, miss_percent, real_miss_percent\n",
      "\n",
      "'All'; 5%; 4.998%.\n",
      "'All'; 20%; 19.991%.\n",
      "'All'; 60%; 59.995%.\n",
      "\n",
      "Categorical\n",
      "'num'; 5%; 4.95%.\n",
      "'num'; 20%; 20.132%.\n",
      "'num'; 60%; 60.066%.\n",
      "\n",
      "Numeric\n",
      "'oldpeak'; 5%; 4.95%.\n",
      "'oldpeak'; 20%; 20.132%.\n",
      "'oldpeak'; 60%; 60.066%.\n",
      "------------------------------\n",
      "cchd_data, MAR:\n",
      "Area, area_dependent, miss_parameter, real_miss_percent\n",
      "\n",
      "Categorical\n",
      "'num'; 'thalach'; 5; 3.96%.\n",
      "'num'; 'thalach'; 20; 13.531%.\n",
      "'num'; 'thalach'; 60; 41.254%.\n",
      "\n",
      "Numeric\n",
      "'oldpeak'; 'thalach'; 5; 2.31%.\n",
      "'oldpeak'; 'thalach'; 20; 11.881%.\n",
      "'oldpeak'; 'thalach'; 60; 42.574%.\n",
      "------------------------------\n",
      "cchd_data, MNAR:\n",
      "Area, area_dependent, miss_parameter, real_miss_percent\n",
      "\n",
      "Categorical\n",
      "'num'; 5; 0.66%.\n",
      "'num'; 20; 5.941%.\n",
      "'num'; 60; 11.551%.\n",
      "\n",
      "Numeric\n",
      "'oldpeak'; 5; 0.33%.\n",
      "'oldpeak'; 20; 1.32%.\n",
      "'oldpeak'; 60; 9.901%.\n",
      "------------------------------\n"
     ]
    }
   ],
   "source": [
    "print('cchd_data, MCAR:\\nArea, miss_percent, real_miss_percent\\n')\n",
    "cchd_mcar_all5 = make_mcar(cchd_data, area='All', miss_percent=5)\n",
    "cchd_mcar_all20 = make_mcar(cchd_data, area='All', miss_percent=20)\n",
    "cchd_mcar_all60 = make_mcar(cchd_data, area='All', miss_percent=60)\n",
    "print('\\nCategorical')\n",
    "cchd_mcar_cat5 = make_mcar(cchd_data, area='num', miss_percent=5)\n",
    "cchd_mcar_cat20 = make_mcar(cchd_data, area='num', miss_percent=20)\n",
    "cchd_mcar_cat60 = make_mcar(cchd_data, area='num', miss_percent=60)\n",
    "print('\\nNumeric')\n",
    "cchd_mcar_num5 = make_mcar(cchd_data, area='oldpeak', miss_percent=5)\n",
    "cchd_mcar_num20 = make_mcar(cchd_data, area='oldpeak', miss_percent=20)\n",
    "cchd_mcar_num60 = make_mcar(cchd_data, area='oldpeak', miss_percent=60)\n",
    "print('-' * 30)\n",
    "\n",
    "print('cchd_data, MAR:\\nArea, area_dependent, miss_parameter, real_miss_percent\\n\\nCategorical')\n",
    "cchd_mar_cat5 = make_mar(cchd_data, area='num', area_dependent='thalach', miss_parameter=5)\n",
    "cchd_mar_cat20 = make_mar(cchd_data, area='num', area_dependent='thalach', miss_parameter=20)\n",
    "cchd_mar_cat60 = make_mar(cchd_data, area='num', area_dependent='thalach', miss_parameter=60)\n",
    "print('\\nNumeric')\n",
    "cchd_mar_num5 = make_mar(cchd_data, area='oldpeak', area_dependent='thalach', miss_parameter=5)\n",
    "cchd_mar_num20 = make_mar(cchd_data, area='oldpeak', area_dependent='thalach', miss_parameter=20)\n",
    "cchd_mar_num60 = make_mar(cchd_data, area='oldpeak', area_dependent='thalach', miss_parameter=60)\n",
    "print('-' * 30)\n",
    "\n",
    "print('cchd_data, MNAR:\\nArea, area_dependent, miss_parameter, real_miss_percent\\n\\nCategorical')\n",
    "cchd_mnar_cat5 = make_mnar(cchd_data, area='num', miss_parameter=5)\n",
    "cchd_mnar_cat20 = make_mnar(cchd_data, area='num', miss_parameter=20)\n",
    "cchd_mnar_cat60 = make_mnar(cchd_data, area='num', miss_parameter=60)\n",
    "print('\\nNumeric')\n",
    "cchd_mnar_num5 = make_mnar(cchd_data, area='oldpeak', miss_parameter=5)\n",
    "cchd_mnar_num20 = make_mnar(cchd_data, area='oldpeak', miss_parameter=20)\n",
    "cchd_mnar_num60 = make_mnar(cchd_data, area='oldpeak', miss_parameter=60)\n",
    "print('-' * 30)"
   ]
  },
  {
   "cell_type": "markdown",
   "id": "c99dae65",
   "metadata": {},
   "source": [
    "# 5 Применение методов <a class=\"anchor\" id=\"chapter5\"></a>"
   ]
  },
  {
   "cell_type": "markdown",
   "id": "657f3e6c",
   "metadata": {},
   "source": [
    "## 5.1 Определение функции для применения методов <a class=\"anchor\" id=\"section_5_1\"></a>"
   ]
  },
  {
   "cell_type": "code",
   "execution_count": null,
   "id": "458a1e88",
   "metadata": {},
   "outputs": [],
   "source": []
  },
  {
   "cell_type": "markdown",
   "id": "11f1bb02",
   "metadata": {},
   "source": [
    "## 5.2 Датасет *Predicting Heart Disease Risk Using Clinical Variables* <a class=\"anchor\" id=\"section_5_2\"></a>"
   ]
  },
  {
   "cell_type": "code",
   "execution_count": null,
   "id": "7d2758a1",
   "metadata": {},
   "outputs": [],
   "source": []
  },
  {
   "cell_type": "markdown",
   "id": "c83a448b",
   "metadata": {},
   "source": [
    "## 5.3 Датасет *Cleveland Clinic Heart Disease Dataset* <a class=\"anchor\" id=\"section_5_3\"></a>"
   ]
  },
  {
   "cell_type": "code",
   "execution_count": null,
   "id": "b91c72c5",
   "metadata": {},
   "outputs": [],
   "source": []
  },
  {
   "cell_type": "markdown",
   "id": "a2c99c1a",
   "metadata": {},
   "source": [
    "# 6 Сравнение результатов <a class=\"anchor\" id=\"chapter6\"></a>"
   ]
  },
  {
   "cell_type": "markdown",
   "id": "bcf2fa17",
   "metadata": {},
   "source": [
    "Пока тут тупо сравнение на 2 экземлярах датасета phd_data с пропусками MAR в объеме ~20%"
   ]
  },
  {
   "cell_type": "markdown",
   "id": "99d00e91",
   "metadata": {},
   "source": [
    "ЧИСЛЕННАЯ ПЕРЕМЕННАЯ:  \n",
    "\\--------------------------------------------  \n",
    "phd_mar_num20_test - датасет;  \n",
    "num_true - истинные значения;  \n",
    "\\--------------------------------------------  \n",
    "reg_pred - предикт лин. регрессии;  \n",
    "median_pred - предикт медианой;  \n",
    "catboost_num_pred - предикт catboost."
   ]
  },
  {
   "cell_type": "code",
   "execution_count": 50,
   "id": "70157910",
   "metadata": {},
   "outputs": [
    {
     "name": "stdout",
     "output_type": "stream",
     "text": [
      "RMSE медиана: 22.148309620547096\n",
      "RMSE лин. регрессия: 18.19314336798398\n",
      "RMSE catboost: 18.105711740313655\n"
     ]
    }
   ],
   "source": [
    "print('RMSE медиана:', math.sqrt(mean_squared_error(num_true, median_pred)))\n",
    "print('RMSE лин. регрессия:', math.sqrt(mean_squared_error(num_true, reg_pred)))\n",
    "print('RMSE catboost:', math.sqrt(mean_squared_error(num_true, catboost_num_pred)))"
   ]
  },
  {
   "cell_type": "markdown",
   "id": "48e6bd84",
   "metadata": {},
   "source": [
    "КАТЕГОРИАЛЬНАЯ ПЕРЕМЕННАЯ:  \n",
    "\\--------------------------------------------  \n",
    "phd_mar_cat20_test - датасет;  \n",
    "cat_true - истинные значения;  \n",
    "\\--------------------------------------------  \n",
    "knn_pred - предикт kNN;  \n",
    "mode_pred - предикт модой;  \n",
    "catboost_cat_pred - предикт catboost."
   ]
  },
  {
   "cell_type": "code",
   "execution_count": 51,
   "id": "9b1a41fe",
   "metadata": {},
   "outputs": [
    {
     "name": "stdout",
     "output_type": "stream",
     "text": [
      "F1 мода: 0.0\n",
      "F1 kNN: 0.8275862068965518\n",
      "F1 catboost: 0.7333333333333334\n"
     ]
    }
   ],
   "source": [
    "print('F1 мода:', f1_score(cat_true, mode_pred))\n",
    "print('F1 kNN:', f1_score(cat_true, knn_pred))\n",
    "print('F1 catboost:', f1_score(cat_true, catboost_cat_pred))"
   ]
  },
  {
   "cell_type": "markdown",
   "id": "daf2d7f1",
   "metadata": {},
   "source": [
    "## 6.1 Создание матриц метрик и определение функции поиска лучших показателей <a class=\"anchor\" id=\"section_6_1\"></a>"
   ]
  },
  {
   "cell_type": "code",
   "execution_count": null,
   "id": "acb67735",
   "metadata": {},
   "outputs": [],
   "source": []
  },
  {
   "cell_type": "markdown",
   "id": "57668baf",
   "metadata": {},
   "source": [
    "## 6.2 Датасет *Predicting Heart Disease Risk Using Clinical Variables* <a class=\"anchor\" id=\"section_6_2\"></a>"
   ]
  },
  {
   "cell_type": "code",
   "execution_count": null,
   "id": "0a186248",
   "metadata": {},
   "outputs": [],
   "source": []
  },
  {
   "cell_type": "markdown",
   "id": "6e7ee256",
   "metadata": {},
   "source": [
    "## 6.3 Датасет *Cleveland Clinic Heart Disease Dataset* <a class=\"anchor\" id=\"section_6_3\"></a>"
   ]
  },
  {
   "cell_type": "code",
   "execution_count": null,
   "id": "1fb14577",
   "metadata": {},
   "outputs": [],
   "source": []
  },
  {
   "cell_type": "markdown",
   "id": "a781ebca",
   "metadata": {},
   "source": [
    "# 7 Выводы <a class=\"anchor\" id=\"chapter7\"></a>"
   ]
  },
  {
   "cell_type": "code",
   "execution_count": null,
   "id": "01371571",
   "metadata": {},
   "outputs": [],
   "source": []
  }
 ],
 "metadata": {
  "kernelspec": {
   "display_name": "Python 3 (ipykernel)",
   "language": "python",
   "name": "python3"
  },
  "language_info": {
   "codemirror_mode": {
    "name": "ipython",
    "version": 3
   },
   "file_extension": ".py",
   "mimetype": "text/x-python",
   "name": "python",
   "nbconvert_exporter": "python",
   "pygments_lexer": "ipython3",
   "version": "3.10.4"
  }
 },
 "nbformat": 4,
 "nbformat_minor": 5
}
